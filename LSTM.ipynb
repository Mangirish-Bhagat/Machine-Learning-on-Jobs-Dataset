{
 "cells": [
  {
   "cell_type": "code",
   "execution_count": 1,
   "metadata": {},
   "outputs": [],
   "source": [
    "import numpy as np\n",
    "import pandas as pd\n",
    "\n",
    "import matplotlib.pyplot as plt\n",
    "\n",
    "from sklearn.preprocessing import MinMaxScaler\n",
    "from sklearn.metrics import mean_squared_error, r2_score\n",
    "from numpy import sqrt\n",
    "\n",
    "import torch\n",
    "import torch.nn as nn"
   ]
  },
  {
   "cell_type": "code",
   "execution_count": 2,
   "metadata": {},
   "outputs": [
    {
     "name": "stdout",
     "output_type": "stream",
     "text": [
      "Wall time: 14.6 s\n"
     ]
    }
   ],
   "source": [
    "%%time\n",
    "df = pd.read_excel('./indeed_results_pp_2020-04-25.xlsx')"
   ]
  },
  {
   "cell_type": "code",
   "execution_count": 3,
   "metadata": {},
   "outputs": [],
   "source": [
    "new_df = df[(df['Title_New'].notnull()) & (df['Salary_Average'] != 0)][['Time', 'Title_New', 'Salary_Average', 'Salary_Unit_Day', 'Salary_Unit_Hour', 'Salary_Unit_Month', 'Salary_Unit_Week', 'Salary_Unit_Year']].sort_values(by='Time').reset_index().drop(['index'], axis=1)"
   ]
  },
  {
   "cell_type": "code",
   "execution_count": 4,
   "metadata": {},
   "outputs": [],
   "source": [
    "new_df['Time'] = new_df['Time'].apply(lambda x: np.datetime64(f'{x}'))"
   ]
  },
  {
   "cell_type": "code",
   "execution_count": 5,
   "metadata": {},
   "outputs": [
    {
     "data": {
      "text/html": [
       "<div>\n",
       "<style scoped>\n",
       "    .dataframe tbody tr th:only-of-type {\n",
       "        vertical-align: middle;\n",
       "    }\n",
       "\n",
       "    .dataframe tbody tr th {\n",
       "        vertical-align: top;\n",
       "    }\n",
       "\n",
       "    .dataframe thead th {\n",
       "        text-align: right;\n",
       "    }\n",
       "</style>\n",
       "<table border=\"1\" class=\"dataframe\">\n",
       "  <thead>\n",
       "    <tr style=\"text-align: right;\">\n",
       "      <th></th>\n",
       "      <th>Time</th>\n",
       "      <th>Title_New</th>\n",
       "      <th>Salary_Average</th>\n",
       "      <th>Salary_Unit_Day</th>\n",
       "      <th>Salary_Unit_Hour</th>\n",
       "      <th>Salary_Unit_Month</th>\n",
       "      <th>Salary_Unit_Week</th>\n",
       "      <th>Salary_Unit_Year</th>\n",
       "    </tr>\n",
       "  </thead>\n",
       "  <tbody>\n",
       "    <tr>\n",
       "      <th>0</th>\n",
       "      <td>2019-10-24</td>\n",
       "      <td>graphic designer</td>\n",
       "      <td>16000</td>\n",
       "      <td>0</td>\n",
       "      <td>0</td>\n",
       "      <td>1</td>\n",
       "      <td>0</td>\n",
       "      <td>0</td>\n",
       "    </tr>\n",
       "    <tr>\n",
       "      <th>1</th>\n",
       "      <td>2019-10-24</td>\n",
       "      <td>graphic designer</td>\n",
       "      <td>16000</td>\n",
       "      <td>0</td>\n",
       "      <td>0</td>\n",
       "      <td>1</td>\n",
       "      <td>0</td>\n",
       "      <td>0</td>\n",
       "    </tr>\n",
       "    <tr>\n",
       "      <th>2</th>\n",
       "      <td>2019-10-24</td>\n",
       "      <td>graphic designer</td>\n",
       "      <td>32500</td>\n",
       "      <td>0</td>\n",
       "      <td>0</td>\n",
       "      <td>1</td>\n",
       "      <td>0</td>\n",
       "      <td>0</td>\n",
       "    </tr>\n",
       "    <tr>\n",
       "      <th>3</th>\n",
       "      <td>2019-10-26</td>\n",
       "      <td>graphic designer</td>\n",
       "      <td>14000</td>\n",
       "      <td>0</td>\n",
       "      <td>0</td>\n",
       "      <td>1</td>\n",
       "      <td>0</td>\n",
       "      <td>0</td>\n",
       "    </tr>\n",
       "    <tr>\n",
       "      <th>4</th>\n",
       "      <td>2019-10-27</td>\n",
       "      <td>front end developer</td>\n",
       "      <td>20000</td>\n",
       "      <td>0</td>\n",
       "      <td>0</td>\n",
       "      <td>1</td>\n",
       "      <td>0</td>\n",
       "      <td>0</td>\n",
       "    </tr>\n",
       "    <tr>\n",
       "      <th>...</th>\n",
       "      <td>...</td>\n",
       "      <td>...</td>\n",
       "      <td>...</td>\n",
       "      <td>...</td>\n",
       "      <td>...</td>\n",
       "      <td>...</td>\n",
       "      <td>...</td>\n",
       "      <td>...</td>\n",
       "    </tr>\n",
       "    <tr>\n",
       "      <th>1332</th>\n",
       "      <td>2020-04-24</td>\n",
       "      <td>web developer</td>\n",
       "      <td>350000</td>\n",
       "      <td>0</td>\n",
       "      <td>0</td>\n",
       "      <td>0</td>\n",
       "      <td>0</td>\n",
       "      <td>1</td>\n",
       "    </tr>\n",
       "    <tr>\n",
       "      <th>1333</th>\n",
       "      <td>2020-04-24</td>\n",
       "      <td>machine learning developer</td>\n",
       "      <td>550000</td>\n",
       "      <td>0</td>\n",
       "      <td>0</td>\n",
       "      <td>0</td>\n",
       "      <td>0</td>\n",
       "      <td>1</td>\n",
       "    </tr>\n",
       "    <tr>\n",
       "      <th>1334</th>\n",
       "      <td>2020-04-24</td>\n",
       "      <td>front end developer</td>\n",
       "      <td>1100000</td>\n",
       "      <td>0</td>\n",
       "      <td>0</td>\n",
       "      <td>0</td>\n",
       "      <td>0</td>\n",
       "      <td>1</td>\n",
       "    </tr>\n",
       "    <tr>\n",
       "      <th>1335</th>\n",
       "      <td>2020-04-24</td>\n",
       "      <td>back end developer</td>\n",
       "      <td>32500</td>\n",
       "      <td>0</td>\n",
       "      <td>0</td>\n",
       "      <td>1</td>\n",
       "      <td>0</td>\n",
       "      <td>0</td>\n",
       "    </tr>\n",
       "    <tr>\n",
       "      <th>1336</th>\n",
       "      <td>2020-04-24</td>\n",
       "      <td>front end developer</td>\n",
       "      <td>37500</td>\n",
       "      <td>0</td>\n",
       "      <td>0</td>\n",
       "      <td>1</td>\n",
       "      <td>0</td>\n",
       "      <td>0</td>\n",
       "    </tr>\n",
       "  </tbody>\n",
       "</table>\n",
       "<p>1337 rows × 8 columns</p>\n",
       "</div>"
      ],
      "text/plain": [
       "           Time                   Title_New  Salary_Average  Salary_Unit_Day  \\\n",
       "0    2019-10-24            graphic designer           16000                0   \n",
       "1    2019-10-24            graphic designer           16000                0   \n",
       "2    2019-10-24            graphic designer           32500                0   \n",
       "3    2019-10-26            graphic designer           14000                0   \n",
       "4    2019-10-27         front end developer           20000                0   \n",
       "...         ...                         ...             ...              ...   \n",
       "1332 2020-04-24               web developer          350000                0   \n",
       "1333 2020-04-24  machine learning developer          550000                0   \n",
       "1334 2020-04-24         front end developer         1100000                0   \n",
       "1335 2020-04-24          back end developer           32500                0   \n",
       "1336 2020-04-24         front end developer           37500                0   \n",
       "\n",
       "      Salary_Unit_Hour  Salary_Unit_Month  Salary_Unit_Week  Salary_Unit_Year  \n",
       "0                    0                  1                 0                 0  \n",
       "1                    0                  1                 0                 0  \n",
       "2                    0                  1                 0                 0  \n",
       "3                    0                  1                 0                 0  \n",
       "4                    0                  1                 0                 0  \n",
       "...                ...                ...               ...               ...  \n",
       "1332                 0                  0                 0                 1  \n",
       "1333                 0                  0                 0                 1  \n",
       "1334                 0                  0                 0                 1  \n",
       "1335                 0                  1                 0                 0  \n",
       "1336                 0                  1                 0                 0  \n",
       "\n",
       "[1337 rows x 8 columns]"
      ]
     },
     "execution_count": 5,
     "metadata": {},
     "output_type": "execute_result"
    }
   ],
   "source": [
    "new_df"
   ]
  },
  {
   "cell_type": "code",
   "execution_count": 6,
   "metadata": {},
   "outputs": [
    {
     "data": {
      "text/plain": [
       "Time                 datetime64[ns]\n",
       "Title_New                    object\n",
       "Salary_Average                int64\n",
       "Salary_Unit_Day               int64\n",
       "Salary_Unit_Hour              int64\n",
       "Salary_Unit_Month             int64\n",
       "Salary_Unit_Week              int64\n",
       "Salary_Unit_Year              int64\n",
       "dtype: object"
      ]
     },
     "execution_count": 6,
     "metadata": {},
     "output_type": "execute_result"
    }
   ],
   "source": [
    "new_df.dtypes"
   ]
  },
  {
   "cell_type": "code",
   "execution_count": 7,
   "metadata": {},
   "outputs": [],
   "source": [
    "y = new_df[(new_df['Title_New'] == 'graphic designer') & (new_df['Salary_Unit_Month'] == 1)][['Time', 'Title_New', 'Salary_Average']].groupby(by='Time').mean()"
   ]
  },
  {
   "cell_type": "code",
   "execution_count": 8,
   "metadata": {},
   "outputs": [
    {
     "data": {
      "text/html": [
       "<div>\n",
       "<style scoped>\n",
       "    .dataframe tbody tr th:only-of-type {\n",
       "        vertical-align: middle;\n",
       "    }\n",
       "\n",
       "    .dataframe tbody tr th {\n",
       "        vertical-align: top;\n",
       "    }\n",
       "\n",
       "    .dataframe thead th {\n",
       "        text-align: right;\n",
       "    }\n",
       "</style>\n",
       "<table border=\"1\" class=\"dataframe\">\n",
       "  <thead>\n",
       "    <tr style=\"text-align: right;\">\n",
       "      <th></th>\n",
       "      <th>Salary_Average</th>\n",
       "    </tr>\n",
       "    <tr>\n",
       "      <th>Time</th>\n",
       "      <th></th>\n",
       "    </tr>\n",
       "  </thead>\n",
       "  <tbody>\n",
       "    <tr>\n",
       "      <th>2019-10-24</th>\n",
       "      <td>21500.000000</td>\n",
       "    </tr>\n",
       "    <tr>\n",
       "      <th>2019-10-26</th>\n",
       "      <td>14000.000000</td>\n",
       "    </tr>\n",
       "    <tr>\n",
       "      <th>2019-10-27</th>\n",
       "      <td>18000.000000</td>\n",
       "    </tr>\n",
       "    <tr>\n",
       "      <th>2019-10-30</th>\n",
       "      <td>22500.000000</td>\n",
       "    </tr>\n",
       "    <tr>\n",
       "      <th>2019-11-02</th>\n",
       "      <td>18166.666667</td>\n",
       "    </tr>\n",
       "  </tbody>\n",
       "</table>\n",
       "</div>"
      ],
      "text/plain": [
       "            Salary_Average\n",
       "Time                      \n",
       "2019-10-24    21500.000000\n",
       "2019-10-26    14000.000000\n",
       "2019-10-27    18000.000000\n",
       "2019-10-30    22500.000000\n",
       "2019-11-02    18166.666667"
      ]
     },
     "execution_count": 8,
     "metadata": {},
     "output_type": "execute_result"
    }
   ],
   "source": [
    "y.head()"
   ]
  },
  {
   "cell_type": "code",
   "execution_count": 9,
   "metadata": {},
   "outputs": [
    {
     "data": {
      "text/plain": [
       "[<matplotlib.lines.Line2D at 0x202e98e0f08>]"
      ]
     },
     "execution_count": 9,
     "metadata": {},
     "output_type": "execute_result"
    },
    {
     "data": {
      "image/png": "[encoded data removed]",
      "text/plain": [
       "<Figure size 432x288 with 1 Axes>"
      ]
     },
     "metadata": {
      "needs_background": "light"
     },
     "output_type": "display_data"
    }
   ],
   "source": [
    "plt.plot(y.index, y['Salary_Average'])"
   ]
  },
  {
   "cell_type": "code",
   "execution_count": 10,
   "metadata": {},
   "outputs": [],
   "source": [
    "test_size = 10\n",
    "train_set = y[:-test_size].values\n",
    "test_set = y[-test_size:]"
   ]
  },
  {
   "cell_type": "code",
   "execution_count": 66,
   "metadata": {},
   "outputs": [],
   "source": [
    "scaler = MinMaxScaler(feature_range=(-1,1))\n",
    "train_norm = scaler.fit_transform(train_set.reshape(-1, 1))\n",
    "train_norm = torch.FloatTensor(train_norm).view(-1).cuda()\n",
    "window_size = 5\n",
    "\n",
    "def input_data(seq, ws):\n",
    "    out = []\n",
    "    L = len(seq)\n",
    "    \n",
    "    for i in range(L-ws):\n",
    "        window = seq[i:i+ws]\n",
    "        label = seq[i+ws:i+ws+1]\n",
    "        out.append((window, label))\n",
    "    \n",
    "    return out\n",
    "\n",
    "train_data = input_data(train_norm, window_size)"
   ]
  },
  {
   "cell_type": "code",
   "execution_count": 67,
   "metadata": {},
   "outputs": [],
   "source": [
    "class LSTMnetwork(nn.Module):\n",
    "    def __init__(self, input_size=1, hidden_size=100, output_size=1):\n",
    "        super().__init__()\n",
    "        self.hidden_size = hidden_size\n",
    "        \n",
    "        self.lstm = nn.LSTM(input_size, hidden_size)\n",
    "        \n",
    "        self.linear = nn.Linear(hidden_size, output_size)\n",
    "        \n",
    "        self.hidden = (\n",
    "            torch.zeros(1, 1, hidden_size),\n",
    "            torch.zeros(1, 1, hidden_size)\n",
    "        )\n",
    "        \n",
    "    def forward(self, seq):\n",
    "        lstm_out, self.hidden = self.lstm(\n",
    "            seq.view(len(seq), 1, -1), self.hidden\n",
    "        )\n",
    "        pred = self.linear(lstm_out.view(len(seq), -1))\n",
    "        \n",
    "        return pred[-1]"
   ]
  },
  {
   "cell_type": "code",
   "execution_count": 113,
   "metadata": {},
   "outputs": [],
   "source": [
    "model = LSTMnetwork().cuda()\n",
    "\n",
    "criterion = nn.MSELoss()\n",
    "optimizer = torch.optim.Adam(model.parameters(), lr=0.001)"
   ]
  },
  {
   "cell_type": "code",
   "execution_count": 114,
   "metadata": {
    "scrolled": true
   },
   "outputs": [
    {
     "name": "stdout",
     "output_type": "stream",
     "text": [
      "Epoch 100 Loss 0.05199907347559929\n",
      "Epoch 200 Loss 0.009275461547076702\n",
      "Epoch 300 Loss 0.012172468937933445\n",
      "Epoch 400 Loss 0.0026181209832429886\n",
      "Epoch 500 Loss 0.07705321907997131\n",
      "Epoch 600 Loss 0.00030459367553703487\n",
      "Epoch 700 Loss 0.0018465094035491347\n",
      "Epoch 800 Loss 0.013883587904274464\n",
      "Epoch 900 Loss 0.00047364295460283756\n",
      "Epoch 1000 Loss 0.012982184067368507\n",
      "Epoch 1100 Loss 2.7231576495978516e-06\n",
      "Epoch 1200 Loss 0.00557090574875474\n",
      "Epoch 1300 Loss 0.0038527455180883408\n",
      "Epoch 1400 Loss 0.0034704001154750586\n",
      "Epoch 1500 Loss 6.025981747370679e-06\n",
      "Epoch 1600 Loss 8.152743248501793e-06\n",
      "Epoch 1700 Loss 0.0003406012838240713\n",
      "Epoch 1800 Loss 2.231487087556161e-05\n",
      "Epoch 1900 Loss 9.825488632486667e-06\n",
      "Epoch 2000 Loss 1.3400351235759445e-05\n",
      "Epoch 2100 Loss 0.0005838776123709977\n",
      "Epoch 2200 Loss 7.152597731874266e-07\n",
      "Epoch 2300 Loss 5.936477975865273e-08\n",
      "Epoch 2400 Loss 0.0008397023193538189\n",
      "Epoch 2500 Loss 0.0003295345522928983\n",
      "Epoch 2600 Loss 0.00032740968163125217\n",
      "Epoch 2700 Loss 0.00017328772810287774\n",
      "Epoch 2800 Loss 0.0002210576058132574\n",
      "Epoch 2900 Loss 8.285620424430817e-05\n",
      "Epoch 3000 Loss 1.2463184248190373e-05\n",
      "Epoch 3100 Loss 0.00031353486701846123\n",
      "Epoch 3200 Loss 3.536099939083215e-06\n",
      "Epoch 3300 Loss 0.0013095168396830559\n",
      "Epoch 3400 Loss 0.0001738193241180852\n",
      "Epoch 3500 Loss 2.3025904738460667e-05\n",
      "Epoch 3600 Loss 0.00010129141446668655\n",
      "Epoch 3700 Loss 0.00015371125482488424\n",
      "Epoch 3800 Loss 6.881649369461229e-06\n",
      "Epoch 3900 Loss 2.034018280028249e-06\n",
      "Epoch 4000 Loss 7.054136403894518e-07\n",
      "Epoch 4100 Loss 6.885572656756267e-05\n",
      "Epoch 4200 Loss 8.885926217772067e-05\n",
      "Epoch 4300 Loss 0.001936090411618352\n",
      "Epoch 4400 Loss 1.0529419341764878e-05\n",
      "Epoch 4500 Loss 5.960221096756868e-05\n",
      "Epoch 4600 Loss 5.285258885123767e-05\n",
      "Epoch 4700 Loss 3.915561421763414e-07\n",
      "Epoch 4800 Loss 1.872795110102743e-05\n",
      "Epoch 4900 Loss 0.00010115738405147567\n",
      "Epoch 5000 Loss 2.560799657658208e-05\n",
      "Wall time: 30min 57s\n"
     ]
    }
   ],
   "source": [
    "%%time\n",
    "epochs = 5000\n",
    "\n",
    "for i in range(epochs):\n",
    "    \n",
    "    for seq, y_train in train_data:\n",
    "        \n",
    "        optimizer.zero_grad()\n",
    "        \n",
    "        model.hidden = (torch.zeros(1, 1, model.hidden_size).cuda(),\n",
    "                       torch.zeros(1, 1, model.hidden_size).cuda())\n",
    "        \n",
    "        y_pred = model(seq)\n",
    "        \n",
    "        loss = criterion(y_pred, y_train)\n",
    "        loss.backward()\n",
    "        optimizer.step()\n",
    "    if (i+1) % 500 == 0:\n",
    "        print(f'Epoch {i+1} Loss {loss.item()}')"
   ]
  },
  {
   "cell_type": "code",
   "execution_count": 115,
   "metadata": {},
   "outputs": [
    {
     "name": "stdout",
     "output_type": "stream",
     "text": [
      "Wall time: 66.9 ms\n"
     ]
    }
   ],
   "source": [
    "%%time\n",
    "future = 10\n",
    "\n",
    "preds = train_norm[-window_size:].tolist()\n",
    "\n",
    "model.eval()\n",
    "\n",
    "for i in range(future):\n",
    "    seq = torch.FloatTensor(preds[-window_size:]).cuda()\n",
    "    \n",
    "    with torch.no_grad():\n",
    "        model.hidden = (torch.zeros(1, 1, model.hidden_size).cuda(),\n",
    "                       torch.zeros(1, 1, model.hidden_size).cuda())\n",
    "        \n",
    "        preds.append(model(seq).item())"
   ]
  },
  {
   "cell_type": "code",
   "execution_count": 116,
   "metadata": {},
   "outputs": [],
   "source": [
    "true_predictions = scaler.inverse_transform(np.array(preds[window_size:]).reshape(-1, 1))"
   ]
  },
  {
   "cell_type": "code",
   "execution_count": 117,
   "metadata": {},
   "outputs": [
    {
     "data": {
      "text/plain": [
       "[<matplotlib.lines.Line2D at 0x20286c6f108>]"
      ]
     },
     "execution_count": 117,
     "metadata": {},
     "output_type": "execute_result"
    },
    {
     "data": {
      "image/png": "[encoded data removed]",
      "text/plain": [
       "<Figure size 432x288 with 1 Axes>"
      ]
     },
     "metadata": {
      "needs_background": "light"
     },
     "output_type": "display_data"
    }
   ],
   "source": [
    "plt.plot(test_set.index, test_set.values)\n",
    "plt.plot(test_set.index, true_predictions)"
   ]
  },
  {
   "cell_type": "code",
   "execution_count": 118,
   "metadata": {},
   "outputs": [
    {
     "data": {
      "text/html": [
       "<div>\n",
       "<style scoped>\n",
       "    .dataframe tbody tr th:only-of-type {\n",
       "        vertical-align: middle;\n",
       "    }\n",
       "\n",
       "    .dataframe tbody tr th {\n",
       "        vertical-align: top;\n",
       "    }\n",
       "\n",
       "    .dataframe thead th {\n",
       "        text-align: right;\n",
       "    }\n",
       "</style>\n",
       "<table border=\"1\" class=\"dataframe\">\n",
       "  <thead>\n",
       "    <tr style=\"text-align: right;\">\n",
       "      <th></th>\n",
       "      <th>Salary_Average</th>\n",
       "    </tr>\n",
       "    <tr>\n",
       "      <th>Time</th>\n",
       "      <th></th>\n",
       "    </tr>\n",
       "  </thead>\n",
       "  <tbody>\n",
       "    <tr>\n",
       "      <th>2020-03-26</th>\n",
       "      <td>55.019130</td>\n",
       "    </tr>\n",
       "    <tr>\n",
       "      <th>2020-03-27</th>\n",
       "      <td>17.717921</td>\n",
       "    </tr>\n",
       "    <tr>\n",
       "      <th>2020-03-28</th>\n",
       "      <td>48.297851</td>\n",
       "    </tr>\n",
       "    <tr>\n",
       "      <th>2020-03-31</th>\n",
       "      <td>59.108300</td>\n",
       "    </tr>\n",
       "    <tr>\n",
       "      <th>2020-04-11</th>\n",
       "      <td>50.021256</td>\n",
       "    </tr>\n",
       "    <tr>\n",
       "      <th>2020-04-13</th>\n",
       "      <td>50.021256</td>\n",
       "    </tr>\n",
       "    <tr>\n",
       "      <th>2020-04-14</th>\n",
       "      <td>50.021256</td>\n",
       "    </tr>\n",
       "    <tr>\n",
       "      <th>2020-04-19</th>\n",
       "      <td>67.870807</td>\n",
       "    </tr>\n",
       "    <tr>\n",
       "      <th>2020-04-22</th>\n",
       "      <td>29.717391</td>\n",
       "    </tr>\n",
       "    <tr>\n",
       "      <th>2020-04-23</th>\n",
       "      <td>29.717391</td>\n",
       "    </tr>\n",
       "  </tbody>\n",
       "</table>\n",
       "</div>"
      ],
      "text/plain": [
       "            Salary_Average\n",
       "Time                      \n",
       "2020-03-26       55.019130\n",
       "2020-03-27       17.717921\n",
       "2020-03-28       48.297851\n",
       "2020-03-31       59.108300\n",
       "2020-04-11       50.021256\n",
       "2020-04-13       50.021256\n",
       "2020-04-14       50.021256\n",
       "2020-04-19       67.870807\n",
       "2020-04-22       29.717391\n",
       "2020-04-23       29.717391"
      ]
     },
     "execution_count": 118,
     "metadata": {},
     "output_type": "execute_result"
    }
   ],
   "source": [
    "100 - sqrt(mean_squared_error(test_set.values.reshape(-1), true_predictions)) / test_set * 100"
   ]
  },
  {
   "cell_type": "code",
   "execution_count": 119,
   "metadata": {},
   "outputs": [
    {
     "data": {
      "text/plain": [
       "11245.21743203638"
      ]
     },
     "execution_count": 119,
     "metadata": {},
     "output_type": "execute_result"
    }
   ],
   "source": [
    "sqrt(mean_squared_error(test_set.values.reshape(-1), true_predictions))"
   ]
  },
  {
   "cell_type": "code",
   "execution_count": 120,
   "metadata": {},
   "outputs": [
    {
     "data": {
      "text/plain": [
       "Salary_Average    45.751256\n",
       "dtype: float64"
      ]
     },
     "execution_count": 120,
     "metadata": {},
     "output_type": "execute_result"
    }
   ],
   "source": [
    "(1 - sqrt(mean_squared_error(test_set.values.reshape(-1), true_predictions)) / test_set).mean() * 100"
   ]
  },
  {
   "cell_type": "code",
   "execution_count": null,
   "metadata": {},
   "outputs": [],
   "source": [
    "# seed=101 epochs=5000 lr=0.001 45.751256"
   ]
  }
 ],
 "metadata": {
  "kernelspec": {
   "display_name": "Python 3",
   "language": "python",
   "name": "python3"
  },
  "language_info": {
   "codemirror_mode": {
    "name": "ipython",
    "version": 3
   },
   "file_extension": ".py",
   "mimetype": "text/x-python",
   "name": "python",
   "nbconvert_exporter": "python",
   "pygments_lexer": "ipython3",
   "version": "3.7.5"
  }
 },
 "nbformat": 4,
 "nbformat_minor": 4
}
