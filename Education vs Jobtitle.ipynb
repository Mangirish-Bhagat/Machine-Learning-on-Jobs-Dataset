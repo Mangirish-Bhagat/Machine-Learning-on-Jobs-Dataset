{
 "cells": [
  {
   "cell_type": "code",
   "execution_count": 1,
   "metadata": {},
   "outputs": [],
   "source": [
    "import numpy as np\n",
    "import pandas as pd\n",
    "\n",
    "import matplotlib.pyplot as plt\n",
    "\n",
    "from sklearn.metrics import accuracy_score, confusion_matrix, multilabel_confusion_matrix\n",
    "\n",
    "from sklearn.calibration import CalibratedClassifierCV\n",
    "from sklearn.dummy import DummyClassifier\n",
    "from sklearn.ensemble import AdaBoostClassifier\n",
    "from sklearn.ensemble import BaggingClassifier\n",
    "from sklearn.ensemble import ExtraTreesClassifier\n",
    "from sklearn.ensemble import GradientBoostingClassifier\n",
    "from sklearn.ensemble import RandomForestClassifier\n",
    "from sklearn.gaussian_process import GaussianProcessClassifier\n",
    "from sklearn.linear_model import LogisticRegression\n",
    "from sklearn.linear_model import PassiveAggressiveClassifier\n",
    "from sklearn.linear_model import Perceptron\n",
    "from sklearn.linear_model import RidgeClassifier\n",
    "from sklearn.linear_model import RidgeClassifierCV\n",
    "from sklearn.linear_model import SGDClassifier\n",
    "from sklearn.neighbors import KNeighborsClassifier\n",
    "from sklearn.neural_network import MLPClassifier\n",
    "from sklearn.svm import LinearSVC\n",
    "from sklearn.svm import SVC\n",
    "from sklearn.tree import DecisionTreeClassifier\n",
    "from sklearn.tree import ExtraTreeClassifier\n",
    "\n",
    "from warnings import filterwarnings\n",
    "filterwarnings('ignore')"
   ]
  },
  {
   "cell_type": "code",
   "execution_count": 2,
   "metadata": {},
   "outputs": [
    {
     "name": "stdout",
     "output_type": "stream",
     "text": [
      "Wall time: 46 s\n"
     ]
    }
   ],
   "source": [
    "%%time\n",
    "df = pd.read_excel('./indeed_results_pp_2020-04-27.xlsx')"
   ]
  },
  {
   "cell_type": "code",
   "execution_count": 3,
   "metadata": {},
   "outputs": [],
   "source": [
    "d = df[(df['Title_New'].notnull()) & ((df['Education_Tenth'] == 1) | (df['Education_Twelvth'] == 1) | (df['Education_Bachelors'] == 1) | (df['Education_Masters'] == 1) | (df['Education_Doctorate'] == 1))].reset_index()[['Title_New', 'Education_Tenth', 'Education_Twelvth', 'Education_Bachelors', 'Education_Masters', 'Education_Doctorate']]"
   ]
  },
  {
   "cell_type": "code",
   "execution_count": 4,
   "metadata": {},
   "outputs": [],
   "source": [
    "d['Title_New'] = d['Title_New'].astype('category')"
   ]
  },
  {
   "cell_type": "code",
   "execution_count": 5,
   "metadata": {},
   "outputs": [],
   "source": [
    "d['Categorical_Title'] = d['Title_New'].cat.codes"
   ]
  },
  {
   "cell_type": "code",
   "execution_count": 6,
   "metadata": {},
   "outputs": [
    {
     "data": {
      "text/html": [
       "<div>\n",
       "<style scoped>\n",
       "    .dataframe tbody tr th:only-of-type {\n",
       "        vertical-align: middle;\n",
       "    }\n",
       "\n",
       "    .dataframe tbody tr th {\n",
       "        vertical-align: top;\n",
       "    }\n",
       "\n",
       "    .dataframe thead th {\n",
       "        text-align: right;\n",
       "    }\n",
       "</style>\n",
       "<table border=\"1\" class=\"dataframe\">\n",
       "  <thead>\n",
       "    <tr style=\"text-align: right;\">\n",
       "      <th></th>\n",
       "      <th>Title_New</th>\n",
       "      <th>Education_Tenth</th>\n",
       "      <th>Education_Twelvth</th>\n",
       "      <th>Education_Bachelors</th>\n",
       "      <th>Education_Masters</th>\n",
       "      <th>Education_Doctorate</th>\n",
       "      <th>Categorical_Title</th>\n",
       "    </tr>\n",
       "  </thead>\n",
       "  <tbody>\n",
       "    <tr>\n",
       "      <th>0</th>\n",
       "      <td>graphic designer</td>\n",
       "      <td>0</td>\n",
       "      <td>0</td>\n",
       "      <td>1</td>\n",
       "      <td>0</td>\n",
       "      <td>0</td>\n",
       "      <td>7</td>\n",
       "    </tr>\n",
       "    <tr>\n",
       "      <th>1</th>\n",
       "      <td>graphic designer</td>\n",
       "      <td>0</td>\n",
       "      <td>1</td>\n",
       "      <td>1</td>\n",
       "      <td>0</td>\n",
       "      <td>0</td>\n",
       "      <td>7</td>\n",
       "    </tr>\n",
       "    <tr>\n",
       "      <th>2</th>\n",
       "      <td>graphic designer</td>\n",
       "      <td>0</td>\n",
       "      <td>0</td>\n",
       "      <td>1</td>\n",
       "      <td>0</td>\n",
       "      <td>0</td>\n",
       "      <td>7</td>\n",
       "    </tr>\n",
       "    <tr>\n",
       "      <th>3</th>\n",
       "      <td>graphic designer</td>\n",
       "      <td>0</td>\n",
       "      <td>0</td>\n",
       "      <td>1</td>\n",
       "      <td>0</td>\n",
       "      <td>0</td>\n",
       "      <td>7</td>\n",
       "    </tr>\n",
       "    <tr>\n",
       "      <th>4</th>\n",
       "      <td>graphic designer</td>\n",
       "      <td>0</td>\n",
       "      <td>1</td>\n",
       "      <td>1</td>\n",
       "      <td>0</td>\n",
       "      <td>0</td>\n",
       "      <td>7</td>\n",
       "    </tr>\n",
       "    <tr>\n",
       "      <th>...</th>\n",
       "      <td>...</td>\n",
       "      <td>...</td>\n",
       "      <td>...</td>\n",
       "      <td>...</td>\n",
       "      <td>...</td>\n",
       "      <td>...</td>\n",
       "      <td>...</td>\n",
       "    </tr>\n",
       "    <tr>\n",
       "      <th>5335</th>\n",
       "      <td>software developer</td>\n",
       "      <td>0</td>\n",
       "      <td>0</td>\n",
       "      <td>1</td>\n",
       "      <td>0</td>\n",
       "      <td>0</td>\n",
       "      <td>10</td>\n",
       "    </tr>\n",
       "    <tr>\n",
       "      <th>5336</th>\n",
       "      <td>data scientist</td>\n",
       "      <td>0</td>\n",
       "      <td>0</td>\n",
       "      <td>1</td>\n",
       "      <td>0</td>\n",
       "      <td>0</td>\n",
       "      <td>3</td>\n",
       "    </tr>\n",
       "    <tr>\n",
       "      <th>5337</th>\n",
       "      <td>data engineer</td>\n",
       "      <td>0</td>\n",
       "      <td>0</td>\n",
       "      <td>1</td>\n",
       "      <td>0</td>\n",
       "      <td>0</td>\n",
       "      <td>2</td>\n",
       "    </tr>\n",
       "    <tr>\n",
       "      <th>5338</th>\n",
       "      <td>data scientist</td>\n",
       "      <td>0</td>\n",
       "      <td>0</td>\n",
       "      <td>1</td>\n",
       "      <td>0</td>\n",
       "      <td>0</td>\n",
       "      <td>3</td>\n",
       "    </tr>\n",
       "    <tr>\n",
       "      <th>5339</th>\n",
       "      <td>back end developer</td>\n",
       "      <td>0</td>\n",
       "      <td>0</td>\n",
       "      <td>1</td>\n",
       "      <td>0</td>\n",
       "      <td>0</td>\n",
       "      <td>0</td>\n",
       "    </tr>\n",
       "  </tbody>\n",
       "</table>\n",
       "<p>5340 rows × 7 columns</p>\n",
       "</div>"
      ],
      "text/plain": [
       "               Title_New  Education_Tenth  Education_Twelvth  \\\n",
       "0       graphic designer                0                  0   \n",
       "1       graphic designer                0                  1   \n",
       "2       graphic designer                0                  0   \n",
       "3       graphic designer                0                  0   \n",
       "4       graphic designer                0                  1   \n",
       "...                  ...              ...                ...   \n",
       "5335  software developer                0                  0   \n",
       "5336      data scientist                0                  0   \n",
       "5337       data engineer                0                  0   \n",
       "5338      data scientist                0                  0   \n",
       "5339  back end developer                0                  0   \n",
       "\n",
       "      Education_Bachelors  Education_Masters  Education_Doctorate  \\\n",
       "0                       1                  0                    0   \n",
       "1                       1                  0                    0   \n",
       "2                       1                  0                    0   \n",
       "3                       1                  0                    0   \n",
       "4                       1                  0                    0   \n",
       "...                   ...                ...                  ...   \n",
       "5335                    1                  0                    0   \n",
       "5336                    1                  0                    0   \n",
       "5337                    1                  0                    0   \n",
       "5338                    1                  0                    0   \n",
       "5339                    1                  0                    0   \n",
       "\n",
       "      Categorical_Title  \n",
       "0                     7  \n",
       "1                     7  \n",
       "2                     7  \n",
       "3                     7  \n",
       "4                     7  \n",
       "...                 ...  \n",
       "5335                 10  \n",
       "5336                  3  \n",
       "5337                  2  \n",
       "5338                  3  \n",
       "5339                  0  \n",
       "\n",
       "[5340 rows x 7 columns]"
      ]
     },
     "execution_count": 6,
     "metadata": {},
     "output_type": "execute_result"
    }
   ],
   "source": [
    "d"
   ]
  },
  {
   "cell_type": "code",
   "execution_count": 7,
   "metadata": {},
   "outputs": [],
   "source": [
    "x = d[['Education_Tenth', 'Education_Twelvth', 'Education_Bachelors', 'Education_Masters', 'Education_Doctorate']].values\n",
    "y = d['Categorical_Title'].values"
   ]
  },
  {
   "cell_type": "code",
   "execution_count": 8,
   "metadata": {},
   "outputs": [
    {
     "data": {
      "text/plain": [
       "array([[[5001,    0],\n",
       "        [ 339,    0]],\n",
       "\n",
       "       [[5283,    0],\n",
       "        [  57,    0]],\n",
       "\n",
       "       [[5099,    0],\n",
       "        [ 241,    0]],\n",
       "\n",
       "       [[4928,    0],\n",
       "        [ 412,    0]],\n",
       "\n",
       "       [[5339,    0],\n",
       "        [   1,    0]],\n",
       "\n",
       "       [[4903,   22],\n",
       "        [ 404,   11]],\n",
       "\n",
       "       [[4610,  127],\n",
       "        [ 560,   43]],\n",
       "\n",
       "       [[5074,    0],\n",
       "        [ 266,    0]],\n",
       "\n",
       "       [[5271,    0],\n",
       "        [  69,    0]],\n",
       "\n",
       "       [[4590,   14],\n",
       "        [ 715,   21]],\n",
       "\n",
       "       [[ 199, 3611],\n",
       "        [  39, 1491]],\n",
       "\n",
       "       [[5129,    0],\n",
       "        [ 211,    0]],\n",
       "\n",
       "       [[5278,    0],\n",
       "        [  62,    0]],\n",
       "\n",
       "       [[5307,    0],\n",
       "        [  33,    0]],\n",
       "\n",
       "       [[5328,    0],\n",
       "        [  12,    0]],\n",
       "\n",
       "       [[4987,    0],\n",
       "        [ 353,    0]]], dtype=int64)"
      ]
     },
     "execution_count": 8,
     "metadata": {},
     "output_type": "execute_result"
    }
   ],
   "source": [
    "multilabel_confusion_matrix(y, LogisticRegression().fit(x, y).predict(x))"
   ]
  },
  {
   "cell_type": "code",
   "execution_count": 9,
   "metadata": {},
   "outputs": [
    {
     "data": {
      "text/plain": [
       "0.2932584269662921"
      ]
     },
     "execution_count": 9,
     "metadata": {},
     "output_type": "execute_result"
    }
   ],
   "source": [
    "accuracy_score(y, LogisticRegression().fit(x, y).predict(x))"
   ]
  },
  {
   "cell_type": "code",
   "execution_count": 10,
   "metadata": {},
   "outputs": [
    {
     "data": {
      "text/plain": [
       "array([[   0,    0,    0,    0,    0,    0,   13,    0,    0,    0,  326,\n",
       "           0,    0,    0,    0,    0],\n",
       "       [   0,    0,    0,    0,    0,    0,    0,    0,    0,    0,   57,\n",
       "           0,    0,    0,    0,    0],\n",
       "       [   0,    0,    0,    0,    0,    0,    6,    0,    0,    0,  235,\n",
       "           0,    0,    0,    0,    0],\n",
       "       [   0,    0,    0,    0,    0,   17,    1,    0,    0,    0,  394,\n",
       "           0,    0,    0,    0,    0],\n",
       "       [   0,    0,    0,    0,    0,    0,    0,    0,    0,    0,    1,\n",
       "           0,    0,    0,    0,    0],\n",
       "       [   0,    0,    0,    0,    0,   11,   22,    0,    0,    0,  382,\n",
       "           0,    0,    0,    0,    0],\n",
       "       [   0,    0,    0,    0,    0,    0,   43,    0,    0,    1,  559,\n",
       "           0,    0,    0,    0,    0],\n",
       "       [   0,    0,    0,    0,    0,    2,    4,    0,    0,    0,  260,\n",
       "           0,    0,    0,    0,    0],\n",
       "       [   0,    0,    0,    0,    0,    0,    0,    0,    0,    0,   69,\n",
       "           0,    0,    0,    0,    0],\n",
       "       [   0,    0,    0,    0,    0,    0,   16,    0,    0,   21,  699,\n",
       "           0,    0,    0,    0,    0],\n",
       "       [   0,    0,    0,    0,    0,    3,   29,    0,    0,    7, 1491,\n",
       "           0,    0,    0,    0,    0],\n",
       "       [   0,    0,    0,    0,    0,    0,   15,    0,    0,    0,  196,\n",
       "           0,    0,    0,    0,    0],\n",
       "       [   0,    0,    0,    0,    0,    0,    2,    0,    0,    4,   56,\n",
       "           0,    0,    0,    0,    0],\n",
       "       [   0,    0,    0,    0,    0,    0,    0,    0,    0,    0,   33,\n",
       "           0,    0,    0,    0,    0],\n",
       "       [   0,    0,    0,    0,    0,    0,    0,    0,    0,    0,   12,\n",
       "           0,    0,    0,    0,    0],\n",
       "       [   0,    0,    0,    0,    0,    0,   19,    0,    0,    2,  332,\n",
       "           0,    0,    0,    0,    0]], dtype=int64)"
      ]
     },
     "execution_count": 10,
     "metadata": {},
     "output_type": "execute_result"
    }
   ],
   "source": [
    "confusion_matrix(y, LogisticRegression().fit(x, y).predict(x))"
   ]
  },
  {
   "cell_type": "code",
   "execution_count": 11,
   "metadata": {},
   "outputs": [
    {
     "data": {
      "text/plain": [
       "0.2891385767790262"
      ]
     },
     "execution_count": 11,
     "metadata": {},
     "output_type": "execute_result"
    }
   ],
   "source": [
    "accuracy_score(y, CalibratedClassifierCV().fit(x, y).predict(x))"
   ]
  },
  {
   "cell_type": "code",
   "execution_count": 12,
   "metadata": {},
   "outputs": [
    {
     "data": {
      "text/plain": [
       "array([[   0,    0,    0,    0,    0,    0,    0,    0,    0,    0,  339,\n",
       "           0,    0,    0,    0,    0],\n",
       "       [   0,    0,    0,    0,    0,    0,    0,    0,    0,    0,   57,\n",
       "           0,    0,    0,    0,    0],\n",
       "       [   0,    0,    0,    0,    0,    0,    0,    0,    0,    0,  241,\n",
       "           0,    0,    0,    0,    0],\n",
       "       [   0,    0,    0,    0,    0,    0,    0,    0,    0,    0,  412,\n",
       "           0,    0,    0,    0,    0],\n",
       "       [   0,    0,    0,    0,    0,    0,    0,    0,    0,    0,    1,\n",
       "           0,    0,    0,    0,    0],\n",
       "       [   0,    0,    0,    0,    0,    0,    0,    0,    0,    0,  415,\n",
       "           0,    0,    0,    0,    0],\n",
       "       [   0,    0,    0,    0,    0,    0,    0,    0,    0,    1,  602,\n",
       "           0,    0,    0,    0,    0],\n",
       "       [   0,    0,    0,    0,    0,    0,    0,    0,    0,    0,  266,\n",
       "           0,    0,    0,    0,    0],\n",
       "       [   0,    0,    0,    0,    0,    0,    0,    0,    0,    0,   69,\n",
       "           0,    0,    0,    0,    0],\n",
       "       [   0,    0,    0,    0,    0,    0,    0,    0,    0,   21,  715,\n",
       "           0,    0,    0,    0,    0],\n",
       "       [   0,    0,    0,    0,    0,    0,    0,    0,    0,    7, 1523,\n",
       "           0,    0,    0,    0,    0],\n",
       "       [   0,    0,    0,    0,    0,    0,    0,    0,    0,    0,  211,\n",
       "           0,    0,    0,    0,    0],\n",
       "       [   0,    0,    0,    0,    0,    0,    0,    0,    0,    4,   58,\n",
       "           0,    0,    0,    0,    0],\n",
       "       [   0,    0,    0,    0,    0,    0,    0,    0,    0,    0,   33,\n",
       "           0,    0,    0,    0,    0],\n",
       "       [   0,    0,    0,    0,    0,    0,    0,    0,    0,    0,   12,\n",
       "           0,    0,    0,    0,    0],\n",
       "       [   0,    0,    0,    0,    0,    0,    0,    0,    0,    2,  351,\n",
       "           0,    0,    0,    0,    0]], dtype=int64)"
      ]
     },
     "execution_count": 12,
     "metadata": {},
     "output_type": "execute_result"
    }
   ],
   "source": [
    "confusion_matrix(y, CalibratedClassifierCV().fit(x, y).predict(x))"
   ]
  },
  {
   "cell_type": "code",
   "execution_count": 13,
   "metadata": {},
   "outputs": [
    {
     "data": {
      "text/plain": [
       "0.14250936329588015"
      ]
     },
     "execution_count": 13,
     "metadata": {},
     "output_type": "execute_result"
    }
   ],
   "source": [
    "accuracy_score(y, DummyClassifier().fit(x, y).predict(x))"
   ]
  },
  {
   "cell_type": "code",
   "execution_count": 14,
   "metadata": {},
   "outputs": [
    {
     "data": {
      "text/plain": [
       "array([[ 28,   0,  21,  20,   0,  30,  37,  11,   7,  44,  85,  14,   3,\n",
       "          7,   2,  30],\n",
       "       [  3,   1,   1,   3,   0,   2,   5,   5,   2,   9,  18,   2,   3,\n",
       "          0,   1,   2],\n",
       "       [ 13,   1,   5,  20,   0,  12,  29,  15,   4,  36,  72,  15,   1,\n",
       "          1,   1,  16],\n",
       "       [ 20,   6,  17,  29,   0,  31,  65,  20,   3,  37, 123,  25,   5,\n",
       "          2,   2,  27],\n",
       "       [  0,   0,   0,   0,   0,   1,   0,   0,   0,   0,   0,   0,   0,\n",
       "          0,   0,   0],\n",
       "       [ 31,   2,  20,  33,   0,  33,  40,  20,   4,  52, 131,  19,   4,\n",
       "          0,   0,  26],\n",
       "       [ 43,   5,  32,  42,   0,  48,  76,  28,   3,  84, 159,  23,   2,\n",
       "          2,   5,  51],\n",
       "       [ 13,   2,  15,  14,   0,  30,  38,   9,   5,  24,  79,  15,   2,\n",
       "          2,   1,  17],\n",
       "       [ 10,   1,   1,   7,   0,   5,  12,   2,   0,  14,   7,   3,   1,\n",
       "          1,   0,   5],\n",
       "       [ 42,  12,  41,  57,   0,  50,  75,  41,   7, 106, 201,  36,   5,\n",
       "          4,   1,  58],\n",
       "       [ 99,  19,  79, 131,   0, 101, 164,  77,  20, 219, 418,  56,  19,\n",
       "         10,   5, 113],\n",
       "       [ 17,   3,  11,   8,   0,  20,  17,  11,   3,  25,  70,   9,   2,\n",
       "          3,   0,  12],\n",
       "       [  2,   0,   2,   2,   0,   3,   7,   2,   0,  11,  11,   5,   1,\n",
       "          0,   1,  15],\n",
       "       [  1,   0,   4,   2,   0,   3,   0,   0,   1,   2,  18,   0,   0,\n",
       "          0,   0,   2],\n",
       "       [  0,   0,   0,   0,   0,   1,   4,   1,   0,   3,   3,   0,   0,\n",
       "          0,   0,   0],\n",
       "       [ 21,   2,  15,  29,   0,  33,  45,  14,   2,  40, 106,  10,   6,\n",
       "          3,   0,  27]], dtype=int64)"
      ]
     },
     "execution_count": 14,
     "metadata": {},
     "output_type": "execute_result"
    }
   ],
   "source": [
    "confusion_matrix(y, DummyClassifier().fit(x, y).predict(x))"
   ]
  },
  {
   "cell_type": "code",
   "execution_count": 15,
   "metadata": {},
   "outputs": [
    {
     "data": {
      "text/plain": [
       "0.19831460674157303"
      ]
     },
     "execution_count": 15,
     "metadata": {},
     "output_type": "execute_result"
    }
   ],
   "source": [
    "accuracy_score(y, AdaBoostClassifier().fit(x, y).predict(x))"
   ]
  },
  {
   "cell_type": "code",
   "execution_count": 16,
   "metadata": {},
   "outputs": [
    {
     "data": {
      "text/plain": [
       "array([[  2,   0,   0,   0,   0,   0,  34,   0,   0,   0, 292,   0,   0,\n",
       "         11,   0,   0],\n",
       "       [  0,   0,   0,   0,   0,   0,  14,   0,   0,   0,  43,   0,   0,\n",
       "          0,   0,   0],\n",
       "       [  2,   0,   0,   0,   0,   0,  36,   0,   0,   0, 199,   0,   0,\n",
       "          4,   0,   0],\n",
       "       [  6,   0,   0,   0,   0,   0,  53,   0,   0,   0, 340,   0,   0,\n",
       "         13,   0,   0],\n",
       "       [  0,   0,   0,   0,   0,   0,   0,   0,   0,   0,   1,   0,   0,\n",
       "          0,   0,   0],\n",
       "       [  1,   0,   0,   0,   0,   0,  82,   0,   0,   0, 323,   0,   0,\n",
       "          9,   0,   0],\n",
       "       [  1,   0,   0,   0,   0,   0, 123,   0,   0,   0, 408,   0,   1,\n",
       "         70,   0,   0],\n",
       "       [  0,   0,   0,   0,   0,   0,  26,   0,   0,   0, 214,   0,   0,\n",
       "         26,   0,   0],\n",
       "       [  0,   0,   0,   0,   0,   0,  27,   0,   0,   0,  42,   0,   0,\n",
       "          0,   0,   0],\n",
       "       [ 22,   0,   0,   0,   0,   0, 244,   0,   0,   0, 430,   0,  21,\n",
       "         19,   0,   0],\n",
       "       [ 23,   0,   0,   0,   0,   0, 347,   0,   0,   0, 926,   0,   5,\n",
       "        229,   0,   0],\n",
       "       [  0,   0,   0,   0,   0,   0,  47,   0,   0,   0, 162,   0,   0,\n",
       "          2,   0,   0],\n",
       "       [  0,   0,   0,   0,   0,   0,  16,   0,   0,   0,  36,   0,   4,\n",
       "          6,   0,   0],\n",
       "       [  0,   0,   0,   0,   0,   0,   3,   0,   0,   0,  26,   0,   0,\n",
       "          4,   0,   0],\n",
       "       [  0,   0,   0,   0,   0,   0,   5,   0,   0,   0,   5,   0,   0,\n",
       "          2,   0,   0],\n",
       "       [  3,   0,   0,   0,   0,   0,  44,   0,   0,   0, 296,   0,   2,\n",
       "          8,   0,   0]], dtype=int64)"
      ]
     },
     "execution_count": 16,
     "metadata": {},
     "output_type": "execute_result"
    }
   ],
   "source": [
    "confusion_matrix(y, AdaBoostClassifier().fit(x, y).predict(x))"
   ]
  },
  {
   "cell_type": "code",
   "execution_count": 17,
   "metadata": {},
   "outputs": [
    {
     "data": {
      "text/plain": [
       "0.2955056179775281"
      ]
     },
     "execution_count": 17,
     "metadata": {},
     "output_type": "execute_result"
    }
   ],
   "source": [
    "accuracy_score(y, BaggingClassifier().fit(x, y).predict(x))"
   ]
  },
  {
   "cell_type": "code",
   "execution_count": 18,
   "metadata": {},
   "outputs": [
    {
     "data": {
      "text/plain": [
       "array([[   2,    0,    0,    0,    0,    0,   13,    0,    0,    0,  324,\n",
       "           0,    0,    0,    0,    0],\n",
       "       [   0,    0,    0,    0,    0,    0,    0,    0,    0,    0,   57,\n",
       "           0,    0,    0,    0,    0],\n",
       "       [   0,    0,    0,    0,    0,    0,    6,    0,    0,    2,  233,\n",
       "           0,    0,    0,    0,    0],\n",
       "       [   2,    0,    0,   17,    0,    0,    1,    0,    0,    4,  388,\n",
       "           0,    0,    0,    0,    0],\n",
       "       [   0,    0,    0,    0,    0,    0,    0,    0,    0,    0,    1,\n",
       "           0,    0,    0,    0,    0],\n",
       "       [   0,    0,    0,   11,    0,    0,   22,    0,    0,    1,  381,\n",
       "           0,    0,    0,    0,    0],\n",
       "       [   0,    0,    0,    0,    0,    0,   43,    0,    0,    2,  558,\n",
       "           0,    0,    0,    0,    0],\n",
       "       [   0,    0,    0,    2,    0,    0,    4,    0,    0,    0,  260,\n",
       "           0,    0,    0,    0,    0],\n",
       "       [   0,    0,    0,    0,    0,    0,    0,    0,    0,    0,   69,\n",
       "           0,    0,    0,    0,    0],\n",
       "       [   0,    0,    0,    0,    0,    0,   16,    0,    0,   43,  677,\n",
       "           0,    0,    0,    0,    0],\n",
       "       [   0,    0,    0,    3,    0,    0,   29,    0,    0,   26, 1472,\n",
       "           0,    0,    0,    0,    0],\n",
       "       [   0,    0,    0,    0,    0,    0,   15,    0,    0,    0,  196,\n",
       "           0,    0,    0,    0,    0],\n",
       "       [   0,    0,    0,    0,    0,    0,    2,    0,    0,    4,   56,\n",
       "           0,    0,    0,    0,    0],\n",
       "       [   0,    0,    0,    0,    0,    0,    0,    0,    0,    0,   33,\n",
       "           0,    0,    0,    0,    0],\n",
       "       [   0,    0,    0,    0,    0,    0,    0,    0,    0,    0,   12,\n",
       "           0,    0,    0,    0,    0],\n",
       "       [   0,    0,    0,    0,    0,    0,   19,    0,    0,    5,  329,\n",
       "           0,    0,    0,    0,    0]], dtype=int64)"
      ]
     },
     "execution_count": 18,
     "metadata": {},
     "output_type": "execute_result"
    }
   ],
   "source": [
    "confusion_matrix(y, BaggingClassifier().fit(x, y).predict(x))"
   ]
  },
  {
   "cell_type": "code",
   "execution_count": 19,
   "metadata": {},
   "outputs": [
    {
     "data": {
      "text/plain": [
       "0.2955056179775281"
      ]
     },
     "execution_count": 19,
     "metadata": {},
     "output_type": "execute_result"
    }
   ],
   "source": [
    "accuracy_score(y, ExtraTreesClassifier().fit(x, y).predict(x))"
   ]
  },
  {
   "cell_type": "code",
   "execution_count": 20,
   "metadata": {},
   "outputs": [
    {
     "data": {
      "text/plain": [
       "array([[   2,    0,    0,    0,    0,    0,   13,    0,    0,    0,  324,\n",
       "           0,    0,    0,    0,    0],\n",
       "       [   0,    0,    0,    0,    0,    0,    0,    0,    0,    0,   57,\n",
       "           0,    0,    0,    0,    0],\n",
       "       [   0,    0,    0,    0,    0,    0,    6,    0,    0,    0,  235,\n",
       "           0,    0,    0,    0,    0],\n",
       "       [   2,    0,    0,   17,    0,    0,    1,    0,    0,    0,  392,\n",
       "           0,    0,    0,    0,    0],\n",
       "       [   0,    0,    0,    0,    0,    0,    0,    0,    0,    0,    1,\n",
       "           0,    0,    0,    0,    0],\n",
       "       [   0,    0,    0,   11,    0,    0,   22,    0,    0,    0,  382,\n",
       "           0,    0,    0,    0,    0],\n",
       "       [   0,    0,    0,    0,    0,    0,   43,    0,    0,    1,  559,\n",
       "           0,    0,    0,    0,    0],\n",
       "       [   0,    0,    0,    2,    0,    0,    4,    0,    0,    0,  260,\n",
       "           0,    0,    0,    0,    0],\n",
       "       [   0,    0,    0,    0,    0,    0,    0,    0,    0,    0,   69,\n",
       "           0,    0,    0,    0,    0],\n",
       "       [   0,    0,    0,    0,    0,    0,   16,    0,    0,   23,  697,\n",
       "           0,    0,    0,    0,    0],\n",
       "       [   0,    0,    0,    3,    0,    0,   29,    0,    0,    5, 1493,\n",
       "           0,    0,    0,    0,    0],\n",
       "       [   0,    0,    0,    0,    0,    0,   15,    0,    0,    0,  196,\n",
       "           0,    0,    0,    0,    0],\n",
       "       [   0,    0,    0,    0,    0,    0,    2,    0,    0,    4,   56,\n",
       "           0,    0,    0,    0,    0],\n",
       "       [   0,    0,    0,    0,    0,    0,    0,    0,    0,    0,   33,\n",
       "           0,    0,    0,    0,    0],\n",
       "       [   0,    0,    0,    0,    0,    0,    0,    0,    0,    0,   12,\n",
       "           0,    0,    0,    0,    0],\n",
       "       [   0,    0,    0,    0,    0,    0,   19,    0,    0,    2,  332,\n",
       "           0,    0,    0,    0,    0]], dtype=int64)"
      ]
     },
     "execution_count": 20,
     "metadata": {},
     "output_type": "execute_result"
    }
   ],
   "source": [
    "confusion_matrix(y, ExtraTreesClassifier().fit(x, y).predict(x))"
   ]
  },
  {
   "cell_type": "code",
   "execution_count": 21,
   "metadata": {},
   "outputs": [
    {
     "data": {
      "text/plain": [
       "0.2955056179775281"
      ]
     },
     "execution_count": 21,
     "metadata": {},
     "output_type": "execute_result"
    }
   ],
   "source": [
    "accuracy_score(y, GradientBoostingClassifier().fit(x, y).predict(x))"
   ]
  },
  {
   "cell_type": "code",
   "execution_count": 22,
   "metadata": {},
   "outputs": [
    {
     "data": {
      "text/plain": [
       "array([[   0,    0,    0,    2,    0,    0,   13,    0,    0,    0,  324,\n",
       "           0,    0,    0,    0,    0],\n",
       "       [   0,    0,    0,    0,    0,    0,    0,    0,    0,    0,   57,\n",
       "           0,    0,    0,    0,    0],\n",
       "       [   0,    0,    0,    0,    0,    0,    6,    0,    0,    0,  235,\n",
       "           0,    0,    0,    0,    0],\n",
       "       [   0,    0,    0,   19,    0,    0,    1,    0,    0,    0,  392,\n",
       "           0,    0,    0,    0,    0],\n",
       "       [   0,    0,    0,    0,    0,    0,    0,    0,    0,    0,    1,\n",
       "           0,    0,    0,    0,    0],\n",
       "       [   0,    0,    0,   11,    0,    0,   22,    0,    0,    0,  382,\n",
       "           0,    0,    0,    0,    0],\n",
       "       [   0,    0,    0,    0,    0,    0,   43,    0,    0,    1,  559,\n",
       "           0,    0,    0,    0,    0],\n",
       "       [   0,    0,    0,    2,    0,    0,    4,    0,    0,    0,  260,\n",
       "           0,    0,    0,    0,    0],\n",
       "       [   0,    0,    0,    0,    0,    0,    0,    0,    0,    0,   69,\n",
       "           0,    0,    0,    0,    0],\n",
       "       [   0,    0,    0,    0,    0,    0,   16,    0,    0,   23,  697,\n",
       "           0,    0,    0,    0,    0],\n",
       "       [   0,    0,    0,    3,    0,    0,   29,    0,    0,    5, 1493,\n",
       "           0,    0,    0,    0,    0],\n",
       "       [   0,    0,    0,    0,    0,    0,   15,    0,    0,    0,  196,\n",
       "           0,    0,    0,    0,    0],\n",
       "       [   0,    0,    0,    0,    0,    0,    2,    0,    0,    4,   56,\n",
       "           0,    0,    0,    0,    0],\n",
       "       [   0,    0,    0,    0,    0,    0,    0,    0,    0,    0,   33,\n",
       "           0,    0,    0,    0,    0],\n",
       "       [   0,    0,    0,    0,    0,    0,    0,    0,    0,    0,   12,\n",
       "           0,    0,    0,    0,    0],\n",
       "       [   0,    0,    0,    0,    0,    0,   19,    0,    0,    2,  332,\n",
       "           0,    0,    0,    0,    0]], dtype=int64)"
      ]
     },
     "execution_count": 22,
     "metadata": {},
     "output_type": "execute_result"
    }
   ],
   "source": [
    "confusion_matrix(y, GradientBoostingClassifier().fit(x, y).predict(x))"
   ]
  },
  {
   "cell_type": "code",
   "execution_count": 23,
   "metadata": {},
   "outputs": [
    {
     "data": {
      "text/plain": [
       "0.2955056179775281"
      ]
     },
     "execution_count": 23,
     "metadata": {},
     "output_type": "execute_result"
    }
   ],
   "source": [
    "accuracy_score(y, RandomForestClassifier().fit(x, y).predict(x))"
   ]
  },
  {
   "cell_type": "code",
   "execution_count": 24,
   "metadata": {},
   "outputs": [
    {
     "data": {
      "text/plain": [
       "array([[   2,    0,    0,    0,    0,    0,   13,    0,    0,    0,  324,\n",
       "           0,    0,    0,    0,    0],\n",
       "       [   0,    0,    0,    0,    0,    0,    0,    0,    0,    0,   57,\n",
       "           0,    0,    0,    0,    0],\n",
       "       [   0,    0,    0,    0,    0,    0,    6,    0,    0,    0,  235,\n",
       "           0,    0,    0,    0,    0],\n",
       "       [   2,    0,    0,   17,    0,    0,    1,    0,    0,    0,  392,\n",
       "           0,    0,    0,    0,    0],\n",
       "       [   0,    0,    0,    0,    0,    0,    0,    0,    0,    0,    1,\n",
       "           0,    0,    0,    0,    0],\n",
       "       [   0,    0,    0,   11,    0,    0,   22,    0,    0,    0,  382,\n",
       "           0,    0,    0,    0,    0],\n",
       "       [   0,    0,    0,    0,    0,    0,   43,    0,    0,    1,  559,\n",
       "           0,    0,    0,    0,    0],\n",
       "       [   0,    0,    0,    2,    0,    0,    4,    0,    0,    0,  260,\n",
       "           0,    0,    0,    0,    0],\n",
       "       [   0,    0,    0,    0,    0,    0,    0,    0,    0,    0,   69,\n",
       "           0,    0,    0,    0,    0],\n",
       "       [   0,    0,    0,    0,    0,    0,   16,    0,    0,   23,  697,\n",
       "           0,    0,    0,    0,    0],\n",
       "       [   0,    0,    0,    3,    0,    0,   29,    0,    0,    5, 1493,\n",
       "           0,    0,    0,    0,    0],\n",
       "       [   0,    0,    0,    0,    0,    0,   15,    0,    0,    0,  196,\n",
       "           0,    0,    0,    0,    0],\n",
       "       [   0,    0,    0,    0,    0,    0,    2,    0,    0,    4,   56,\n",
       "           0,    0,    0,    0,    0],\n",
       "       [   0,    0,    0,    0,    0,    0,    0,    0,    0,    0,   33,\n",
       "           0,    0,    0,    0,    0],\n",
       "       [   0,    0,    0,    0,    0,    0,    0,    0,    0,    0,   12,\n",
       "           0,    0,    0,    0,    0],\n",
       "       [   0,    0,    0,    0,    0,    0,   19,    0,    0,    2,  332,\n",
       "           0,    0,    0,    0,    0]], dtype=int64)"
      ]
     },
     "execution_count": 24,
     "metadata": {},
     "output_type": "execute_result"
    }
   ],
   "source": [
    "confusion_matrix(y, RandomForestClassifier().fit(x, y).predict(x))"
   ]
  },
  {
   "cell_type": "code",
   "execution_count": 25,
   "metadata": {},
   "outputs": [
    {
     "data": {
      "text/plain": [
       "0.2951310861423221"
      ]
     },
     "execution_count": 25,
     "metadata": {},
     "output_type": "execute_result"
    }
   ],
   "source": [
    "accuracy_score(y, GaussianProcessClassifier().fit(x, y).predict(x))"
   ]
  },
  {
   "cell_type": "code",
   "execution_count": 26,
   "metadata": {},
   "outputs": [
    {
     "data": {
      "text/plain": [
       "array([[   0,    0,    0,    0,    0,    0,   13,    0,    0,    0,  326,\n",
       "           0,    0,    0,    0,    0],\n",
       "       [   0,    0,    0,    0,    0,    0,    0,    0,    0,    0,   57,\n",
       "           0,    0,    0,    0,    0],\n",
       "       [   0,    0,    0,    0,    0,    0,    6,    0,    0,    0,  235,\n",
       "           0,    0,    0,    0,    0],\n",
       "       [   0,    0,    0,   17,    0,    0,    1,    0,    0,    0,  394,\n",
       "           0,    0,    0,    0,    0],\n",
       "       [   0,    0,    0,    0,    0,    0,    0,    0,    0,    0,    1,\n",
       "           0,    0,    0,    0,    0],\n",
       "       [   0,    0,    0,   11,    0,    0,   22,    0,    0,    0,  382,\n",
       "           0,    0,    0,    0,    0],\n",
       "       [   0,    0,    0,    0,    0,    0,   43,    0,    0,    1,  559,\n",
       "           0,    0,    0,    0,    0],\n",
       "       [   0,    0,    0,    2,    0,    0,    4,    0,    0,    0,  260,\n",
       "           0,    0,    0,    0,    0],\n",
       "       [   0,    0,    0,    0,    0,    0,    0,    0,    0,    0,   69,\n",
       "           0,    0,    0,    0,    0],\n",
       "       [   0,    0,    0,    0,    0,    0,   16,    0,    0,   23,  697,\n",
       "           0,    0,    0,    0,    0],\n",
       "       [   0,    0,    0,    3,    0,    0,   29,    0,    0,    5, 1493,\n",
       "           0,    0,    0,    0,    0],\n",
       "       [   0,    0,    0,    0,    0,    0,   15,    0,    0,    0,  196,\n",
       "           0,    0,    0,    0,    0],\n",
       "       [   0,    0,    0,    0,    0,    0,    2,    0,    0,    4,   56,\n",
       "           0,    0,    0,    0,    0],\n",
       "       [   0,    0,    0,    0,    0,    0,    0,    0,    0,    0,   33,\n",
       "           0,    0,    0,    0,    0],\n",
       "       [   0,    0,    0,    0,    0,    0,    0,    0,    0,    0,   12,\n",
       "           0,    0,    0,    0,    0],\n",
       "       [   0,    0,    0,    0,    0,    0,   19,    0,    0,    2,  332,\n",
       "           0,    0,    0,    0,    0]], dtype=int64)"
      ]
     },
     "execution_count": 26,
     "metadata": {},
     "output_type": "execute_result"
    }
   ],
   "source": [
    "confusion_matrix(y, GaussianProcessClassifier().fit(x, y).predict(x))"
   ]
  },
  {
   "cell_type": "code",
   "execution_count": 27,
   "metadata": {},
   "outputs": [
    {
     "data": {
      "text/plain": [
       "0.16292134831460675"
      ]
     },
     "execution_count": 27,
     "metadata": {},
     "output_type": "execute_result"
    }
   ],
   "source": [
    "accuracy_score(y, PassiveAggressiveClassifier().fit(x, y).predict(x))"
   ]
  },
  {
   "cell_type": "code",
   "execution_count": 28,
   "metadata": {},
   "outputs": [
    {
     "data": {
      "text/plain": [
       "array([[   0,    0,    0,    0,    0,    0,  332,    0,    0,    0,    5,\n",
       "           0,    0,    2,    0,    0],\n",
       "       [   0,    0,    0,    0,    0,    0,   57,    0,    0,    0,    0,\n",
       "           0,    0,    0,    0,    0],\n",
       "       [   0,    0,    0,    0,    0,    0,  239,    0,    0,    0,    2,\n",
       "           0,    0,    0,    0,    0],\n",
       "       [   0,    0,    0,    0,    0,    0,  374,    0,    0,    0,   36,\n",
       "           0,    0,    2,    0,    0],\n",
       "       [   0,    0,    0,    0,    0,    0,    1,    0,    0,    0,    0,\n",
       "           0,    0,    0,    0,    0],\n",
       "       [   0,    0,    0,    0,    0,    0,  407,    0,    0,    0,    8,\n",
       "           0,    0,    0,    0,    0],\n",
       "       [   0,    0,    0,    0,    0,    0,  594,    0,    0,    0,    9,\n",
       "           0,    0,    0,    0,    0],\n",
       "       [   0,    0,    0,    0,    0,    0,  258,    0,    0,    0,    8,\n",
       "           0,    0,    0,    0,    0],\n",
       "       [   0,    0,    0,    0,    0,    0,   69,    0,    0,    0,    0,\n",
       "           0,    0,    0,    0,    0],\n",
       "       [   0,    0,    0,    0,    0,    0,  687,    0,    0,    0,   49,\n",
       "           0,    0,    0,    0,    0],\n",
       "       [   0,    0,    0,    0,    0,    0, 1458,    0,    0,    0,   72,\n",
       "           0,    0,    0,    0,    0],\n",
       "       [   0,    0,    0,    0,    0,    0,  207,    0,    0,    0,    4,\n",
       "           0,    0,    0,    0,    0],\n",
       "       [   0,    0,    0,    0,    0,    0,   62,    0,    0,    0,    0,\n",
       "           0,    0,    0,    0,    0],\n",
       "       [   0,    0,    0,    0,    0,    0,   31,    0,    0,    0,    2,\n",
       "           0,    0,    0,    0,    0],\n",
       "       [   0,    0,    0,    0,    0,    0,   12,    0,    0,    0,    0,\n",
       "           0,    0,    0,    0,    0],\n",
       "       [   0,    0,    0,    0,    0,    0,  348,    0,    0,    0,    5,\n",
       "           0,    0,    0,    0,    0]], dtype=int64)"
      ]
     },
     "execution_count": 28,
     "metadata": {},
     "output_type": "execute_result"
    }
   ],
   "source": [
    "confusion_matrix(y, PassiveAggressiveClassifier().fit(x, y).predict(x))"
   ]
  },
  {
   "cell_type": "code",
   "execution_count": 29,
   "metadata": {},
   "outputs": [
    {
     "data": {
      "text/plain": [
       "0.28389513108614234"
      ]
     },
     "execution_count": 29,
     "metadata": {},
     "output_type": "execute_result"
    }
   ],
   "source": [
    "accuracy_score(y, Perceptron().fit(x, y).predict(x))"
   ]
  },
  {
   "cell_type": "code",
   "execution_count": 30,
   "metadata": {},
   "outputs": [
    {
     "data": {
      "text/plain": [
       "array([[   0,    0,    0,    0,    0,    0,   13,    0,    0,    0,  326,\n",
       "           0,    0,    0,    0,    0],\n",
       "       [   0,    0,    0,    0,    0,    0,    0,    0,    0,    0,   57,\n",
       "           0,    0,    0,    0,    0],\n",
       "       [   0,    0,    0,    0,    2,    0,    6,    0,    0,    0,  233,\n",
       "           0,    0,    0,    0,    0],\n",
       "       [   0,    0,    0,    0,    4,    0,   18,    0,    0,    0,  390,\n",
       "           0,    0,    0,    0,    0],\n",
       "       [   0,    0,    0,    0,    0,    0,    0,    0,    0,    0,    1,\n",
       "           0,    0,    0,    0,    0],\n",
       "       [   0,    0,    0,    0,    1,    0,   33,    0,    0,    0,  381,\n",
       "           0,    0,    0,    0,    0],\n",
       "       [   0,    0,    0,    0,    1,    0,   44,    0,    0,    0,  558,\n",
       "           0,    0,    0,    0,    0],\n",
       "       [   0,    0,    0,    0,    0,    0,    6,    0,    0,    0,  260,\n",
       "           0,    0,    0,    0,    0],\n",
       "       [   0,    0,    0,    0,    0,    0,    0,    0,    0,    0,   69,\n",
       "           0,    0,    0,    0,    0],\n",
       "       [   0,    0,    0,    0,   20,    0,   37,    0,    0,    2,  677,\n",
       "           0,    0,    0,    0,    0],\n",
       "       [   0,    0,    0,    0,   23,    0,   37,    0,    0,    0, 1470,\n",
       "           0,    0,    0,    0,    0],\n",
       "       [   0,    0,    0,    0,    0,    0,   15,    0,    0,    0,  196,\n",
       "           0,    0,    0,    0,    0],\n",
       "       [   0,    0,    0,    0,    0,    0,    6,    0,    0,    0,   56,\n",
       "           0,    0,    0,    0,    0],\n",
       "       [   0,    0,    0,    0,    0,    0,    0,    0,    0,    0,   33,\n",
       "           0,    0,    0,    0,    0],\n",
       "       [   0,    0,    0,    0,    0,    0,    0,    0,    0,    0,   12,\n",
       "           0,    0,    0,    0,    0],\n",
       "       [   0,    0,    0,    0,    3,    0,   21,    0,    0,    0,  329,\n",
       "           0,    0,    0,    0,    0]], dtype=int64)"
      ]
     },
     "execution_count": 30,
     "metadata": {},
     "output_type": "execute_result"
    }
   ],
   "source": [
    "confusion_matrix(y, Perceptron().fit(x, y).predict(x))"
   ]
  },
  {
   "cell_type": "code",
   "execution_count": 31,
   "metadata": {},
   "outputs": [
    {
     "data": {
      "text/plain": [
       "0.29213483146067415"
      ]
     },
     "execution_count": 31,
     "metadata": {},
     "output_type": "execute_result"
    }
   ],
   "source": [
    "accuracy_score(y, RidgeClassifier().fit(x, y).predict(x))"
   ]
  },
  {
   "cell_type": "code",
   "execution_count": 32,
   "metadata": {},
   "outputs": [
    {
     "data": {
      "text/plain": [
       "array([[   0,    0,    0,    0,    0,    0,   13,    0,    0,    0,  326,\n",
       "           0,    0,    0,    0,    0],\n",
       "       [   0,    0,    0,    0,    0,    0,    0,    0,    0,    0,   57,\n",
       "           0,    0,    0,    0,    0],\n",
       "       [   0,    0,    0,    0,    0,    0,    6,    0,    0,    0,  235,\n",
       "           0,    0,    0,    0,    0],\n",
       "       [   0,    0,    0,    0,    0,    0,    1,    0,    0,    0,  411,\n",
       "           0,    0,    0,    0,    0],\n",
       "       [   0,    0,    0,    0,    0,    0,    0,    0,    0,    0,    1,\n",
       "           0,    0,    0,    0,    0],\n",
       "       [   0,    0,    0,    0,    0,    0,   22,    0,    0,    0,  393,\n",
       "           0,    0,    0,    0,    0],\n",
       "       [   0,    0,    0,    0,    0,    0,   43,    0,    0,    1,  559,\n",
       "           0,    0,    0,    0,    0],\n",
       "       [   0,    0,    0,    0,    0,    0,    4,    0,    0,    0,  262,\n",
       "           0,    0,    0,    0,    0],\n",
       "       [   0,    0,    0,    0,    0,    0,    0,    0,    0,    0,   69,\n",
       "           0,    0,    0,    0,    0],\n",
       "       [   0,    0,    0,    0,    0,    0,   16,    0,    0,   21,  699,\n",
       "           0,    0,    0,    0,    0],\n",
       "       [   0,    0,    0,    0,    0,    0,   29,    0,    0,    5, 1496,\n",
       "           0,    0,    0,    0,    0],\n",
       "       [   0,    0,    0,    0,    0,    0,   15,    0,    0,    0,  196,\n",
       "           0,    0,    0,    0,    0],\n",
       "       [   0,    0,    0,    0,    0,    0,    2,    0,    0,    4,   56,\n",
       "           0,    0,    0,    0,    0],\n",
       "       [   0,    0,    0,    0,    0,    0,    0,    0,    0,    0,   33,\n",
       "           0,    0,    0,    0,    0],\n",
       "       [   0,    0,    0,    0,    0,    0,    0,    0,    0,    0,   12,\n",
       "           0,    0,    0,    0,    0],\n",
       "       [   0,    0,    0,    0,    0,    0,   19,    0,    0,    2,  332,\n",
       "           0,    0,    0,    0,    0]], dtype=int64)"
      ]
     },
     "execution_count": 32,
     "metadata": {},
     "output_type": "execute_result"
    }
   ],
   "source": [
    "confusion_matrix(y, RidgeClassifier().fit(x, y).predict(x))"
   ]
  },
  {
   "cell_type": "code",
   "execution_count": 33,
   "metadata": {},
   "outputs": [
    {
     "data": {
      "text/plain": [
       "0.29213483146067415"
      ]
     },
     "execution_count": 33,
     "metadata": {},
     "output_type": "execute_result"
    }
   ],
   "source": [
    "accuracy_score(y, RidgeClassifierCV().fit(x, y).predict(x))"
   ]
  },
  {
   "cell_type": "code",
   "execution_count": 34,
   "metadata": {},
   "outputs": [
    {
     "data": {
      "text/plain": [
       "array([[   0,    0,    0,    0,    0,    0,   13,    0,    0,    0,  326,\n",
       "           0,    0,    0,    0,    0],\n",
       "       [   0,    0,    0,    0,    0,    0,    0,    0,    0,    0,   57,\n",
       "           0,    0,    0,    0,    0],\n",
       "       [   0,    0,    0,    0,    0,    0,    6,    0,    0,    0,  235,\n",
       "           0,    0,    0,    0,    0],\n",
       "       [   0,    0,    0,    0,    0,    0,    1,    0,    0,    0,  411,\n",
       "           0,    0,    0,    0,    0],\n",
       "       [   0,    0,    0,    0,    0,    0,    0,    0,    0,    0,    1,\n",
       "           0,    0,    0,    0,    0],\n",
       "       [   0,    0,    0,    0,    0,    0,   22,    0,    0,    0,  393,\n",
       "           0,    0,    0,    0,    0],\n",
       "       [   0,    0,    0,    0,    0,    0,   43,    0,    0,    1,  559,\n",
       "           0,    0,    0,    0,    0],\n",
       "       [   0,    0,    0,    0,    0,    0,    4,    0,    0,    0,  262,\n",
       "           0,    0,    0,    0,    0],\n",
       "       [   0,    0,    0,    0,    0,    0,    0,    0,    0,    0,   69,\n",
       "           0,    0,    0,    0,    0],\n",
       "       [   0,    0,    0,    0,    0,    0,   16,    0,    0,   21,  699,\n",
       "           0,    0,    0,    0,    0],\n",
       "       [   0,    0,    0,    0,    0,    0,   29,    0,    0,    5, 1496,\n",
       "           0,    0,    0,    0,    0],\n",
       "       [   0,    0,    0,    0,    0,    0,   15,    0,    0,    0,  196,\n",
       "           0,    0,    0,    0,    0],\n",
       "       [   0,    0,    0,    0,    0,    0,    2,    0,    0,    4,   56,\n",
       "           0,    0,    0,    0,    0],\n",
       "       [   0,    0,    0,    0,    0,    0,    0,    0,    0,    0,   33,\n",
       "           0,    0,    0,    0,    0],\n",
       "       [   0,    0,    0,    0,    0,    0,    0,    0,    0,    0,   12,\n",
       "           0,    0,    0,    0,    0],\n",
       "       [   0,    0,    0,    0,    0,    0,   19,    0,    0,    2,  332,\n",
       "           0,    0,    0,    0,    0]], dtype=int64)"
      ]
     },
     "execution_count": 34,
     "metadata": {},
     "output_type": "execute_result"
    }
   ],
   "source": [
    "confusion_matrix(y, RidgeClassifierCV().fit(x, y).predict(x))"
   ]
  },
  {
   "cell_type": "code",
   "execution_count": 35,
   "metadata": {},
   "outputs": [
    {
     "data": {
      "text/plain": [
       "0.19307116104868913"
      ]
     },
     "execution_count": 35,
     "metadata": {},
     "output_type": "execute_result"
    }
   ],
   "source": [
    "accuracy_score(y, SGDClassifier().fit(x, y).predict(x))"
   ]
  },
  {
   "cell_type": "code",
   "execution_count": 36,
   "metadata": {},
   "outputs": [
    {
     "data": {
      "text/plain": [
       "array([[  0,   0,   0, 306,   0,   0,   0,   0,   0,   0,  33,   0,   0,\n",
       "          0,   0,   0],\n",
       "       [  0,   0,   0,  43,   0,   0,   0,   0,   0,   0,  14,   0,   0,\n",
       "          0,   0,   0],\n",
       "       [  0,   0,   0, 205,   0,   0,   0,   0,   0,   2,  34,   0,   0,\n",
       "          0,   0,   0],\n",
       "       [  0,   0,   0, 304,   0,   0,   0,   0,   0,   4, 104,   0,   0,\n",
       "          0,   0,   0],\n",
       "       [  0,   0,   0,   1,   0,   0,   0,   0,   0,   0,   0,   0,   0,\n",
       "          0,   0,   0],\n",
       "       [  0,   0,   0, 317,   0,   0,   0,   0,   0,   1,  97,   0,   0,\n",
       "          0,   0,   0],\n",
       "       [  0,   0,   0, 443,   0,   0,   0,   0,   0,   2, 158,   0,   0,\n",
       "          0,   0,   0],\n",
       "       [  0,   0,   0, 207,   0,   0,   0,   0,   0,   0,  59,   0,   0,\n",
       "          0,   0,   0],\n",
       "       [  0,   0,   0,  42,   0,   0,   0,   0,   0,   0,  27,   0,   0,\n",
       "          0,   0,   0],\n",
       "       [  0,   0,   0, 409,   0,   0,   0,   0,   0,  41, 286,   0,   0,\n",
       "          0,   0,   0],\n",
       "       [  0,   0,   0, 862,   0,   0,   0,   0,   0,  28, 640,   0,   0,\n",
       "          0,   0,   0],\n",
       "       [  0,   0,   0, 169,   0,   0,   0,   0,   0,   0,  42,   0,   0,\n",
       "          0,   0,   0],\n",
       "       [  0,   0,   0,  38,   0,   0,   0,   0,   0,   4,  20,   0,   0,\n",
       "          0,   0,   0],\n",
       "       [  0,   0,   0,  24,   0,   0,   0,   0,   0,   0,   9,   0,   0,\n",
       "          0,   0,   0],\n",
       "       [  0,   0,   0,   4,   0,   0,   0,   0,   0,   0,   8,   0,   0,\n",
       "          0,   0,   0],\n",
       "       [  0,   0,   0, 313,   0,   0,   0,   0,   0,   5,  35,   0,   0,\n",
       "          0,   0,   0]], dtype=int64)"
      ]
     },
     "execution_count": 36,
     "metadata": {},
     "output_type": "execute_result"
    }
   ],
   "source": [
    "confusion_matrix(y, SGDClassifier().fit(x, y).predict(x))"
   ]
  },
  {
   "cell_type": "code",
   "execution_count": 37,
   "metadata": {},
   "outputs": [
    {
     "data": {
      "text/plain": [
       "0.15393258426966291"
      ]
     },
     "execution_count": 37,
     "metadata": {},
     "output_type": "execute_result"
    }
   ],
   "source": [
    "accuracy_score(y, KNeighborsClassifier().fit(x, y).predict(x))"
   ]
  },
  {
   "cell_type": "code",
   "execution_count": 38,
   "metadata": {},
   "outputs": [
    {
     "data": {
      "text/plain": [
       "array([[285,   0,   0,   0,   0,  21,   0,  13,   0,   0,  20,   0,   0,\n",
       "          0,   0,   0],\n",
       "       [ 43,   0,   0,   0,   0,  14,   0,   0,   0,   0,   0,   0,   0,\n",
       "          0,   0,   0],\n",
       "       [187,   0,   0,   0,   0,  30,   0,   6,   0,   2,  16,   0,   0,\n",
       "          0,   0,   0],\n",
       "       [267,   0,   0,  17,   0,  52,   0,   1,   0,   4,  71,   0,   0,\n",
       "          0,   0,   0],\n",
       "       [  1,   0,   0,   0,   0,   0,   0,   0,   0,   0,   0,   0,   0,\n",
       "          0,   0,   0],\n",
       "       [266,   0,   0,  11,   0,  60,   0,  22,   0,   1,  55,   0,   0,\n",
       "          0,   0,   0],\n",
       "       [379,   0,   0,   0,   0,  80,   0,  43,   0,   2,  99,   0,   0,\n",
       "          0,   0,   0],\n",
       "       [199,   0,   0,   2,   0,  22,   0,   4,   0,   0,  39,   0,   0,\n",
       "          0,   0,   0],\n",
       "       [ 42,   0,   0,   0,   0,  27,   0,   0,   0,   0,   0,   0,   0,\n",
       "          0,   0,   0],\n",
       "       [390,   0,   0,   0,   0, 228,   0,  16,   0,  41,  61,   0,   0,\n",
       "          0,   0,   0],\n",
       "       [738,   0,   0,   3,   0, 318,   1,  29,   0,  26, 415,   0,   0,\n",
       "          0,   0,   0],\n",
       "       [133,   0,   0,   0,   0,  32,   0,  15,   0,   0,  31,   0,   0,\n",
       "          0,   0,   0],\n",
       "       [ 36,   0,   0,   0,   0,  14,   0,   2,   0,   4,   6,   0,   0,\n",
       "          0,   0,   0],\n",
       "       [ 24,   0,   0,   0,   0,   3,   0,   0,   0,   0,   6,   0,   0,\n",
       "          0,   0,   0],\n",
       "       [  4,   0,   0,   0,   0,   5,   0,   0,   0,   0,   3,   0,   0,\n",
       "          0,   0,   0],\n",
       "       [291,   0,   0,   0,   0,  25,   0,  19,   0,   5,  13,   0,   0,\n",
       "          0,   0,   0]], dtype=int64)"
      ]
     },
     "execution_count": 38,
     "metadata": {},
     "output_type": "execute_result"
    }
   ],
   "source": [
    "confusion_matrix(y, KNeighborsClassifier().fit(x, y).predict(x))"
   ]
  },
  {
   "cell_type": "code",
   "execution_count": 39,
   "metadata": {},
   "outputs": [
    {
     "data": {
      "text/plain": [
       "0.2955056179775281"
      ]
     },
     "execution_count": 39,
     "metadata": {},
     "output_type": "execute_result"
    }
   ],
   "source": [
    "accuracy_score(y, MLPClassifier().fit(x, y).predict(x))"
   ]
  },
  {
   "cell_type": "code",
   "execution_count": 40,
   "metadata": {},
   "outputs": [
    {
     "data": {
      "text/plain": [
       "array([[   0,    0,    0,    0,    0,    0,   13,    0,    0,    0,  326,\n",
       "           0,    0,    0,    0,    0],\n",
       "       [   0,    0,    0,    0,    0,    0,    0,    0,    0,    0,   57,\n",
       "           0,    0,    0,    0,    0],\n",
       "       [   0,    0,    0,    0,    0,    0,    6,    0,    0,    0,  235,\n",
       "           0,    0,    0,    0,    0],\n",
       "       [   0,    0,    0,   17,    0,    0,    1,    0,    0,    0,  394,\n",
       "           0,    0,    0,    0,    0],\n",
       "       [   0,    0,    0,    0,    0,    0,    0,    0,    0,    0,    1,\n",
       "           0,    0,    0,    0,    0],\n",
       "       [   0,    0,    0,   11,    0,    0,   22,    0,    0,    0,  382,\n",
       "           0,    0,    0,    0,    0],\n",
       "       [   0,    0,    0,    0,    0,    0,   43,    0,    0,    1,  559,\n",
       "           0,    0,    0,    0,    0],\n",
       "       [   0,    0,    0,    2,    0,    0,    4,    0,    0,    0,  260,\n",
       "           0,    0,    0,    0,    0],\n",
       "       [   0,    0,    0,    0,    0,    0,    0,    0,    0,    0,   69,\n",
       "           0,    0,    0,    0,    0],\n",
       "       [   0,    0,    0,    0,    0,    0,   16,    0,    0,   23,  697,\n",
       "           0,    0,    0,    0,    0],\n",
       "       [   0,    0,    0,    3,    0,    0,   29,    0,    0,    5, 1493,\n",
       "           0,    0,    0,    0,    0],\n",
       "       [   0,    0,    0,    0,    0,    0,   15,    0,    0,    0,  196,\n",
       "           0,    0,    0,    0,    0],\n",
       "       [   0,    0,    0,    0,    0,    0,    2,    0,    0,    4,   56,\n",
       "           0,    0,    0,    0,    0],\n",
       "       [   0,    0,    0,    0,    0,    0,    0,    0,    0,    0,   33,\n",
       "           0,    0,    0,    0,    0],\n",
       "       [   0,    0,    0,    0,    0,    0,    0,    0,    0,    0,   12,\n",
       "           0,    0,    0,    0,    0],\n",
       "       [   0,    0,    0,    0,    0,    0,   19,    0,    0,    2,  332,\n",
       "           0,    0,    0,    0,    0]], dtype=int64)"
      ]
     },
     "execution_count": 40,
     "metadata": {},
     "output_type": "execute_result"
    }
   ],
   "source": [
    "confusion_matrix(y, MLPClassifier().fit(x, y).predict(x))"
   ]
  },
  {
   "cell_type": "code",
   "execution_count": 41,
   "metadata": {},
   "outputs": [
    {
     "data": {
      "text/plain": [
       "0.29213483146067415"
      ]
     },
     "execution_count": 41,
     "metadata": {},
     "output_type": "execute_result"
    }
   ],
   "source": [
    "accuracy_score(y, LinearSVC().fit(x, y).predict(x))"
   ]
  },
  {
   "cell_type": "code",
   "execution_count": 42,
   "metadata": {},
   "outputs": [
    {
     "data": {
      "text/plain": [
       "array([[   0,    0,    0,    0,    0,    0,   13,    0,    0,    0,  326,\n",
       "           0,    0,    0,    0,    0],\n",
       "       [   0,    0,    0,    0,    0,    0,    0,    0,    0,    0,   57,\n",
       "           0,    0,    0,    0,    0],\n",
       "       [   0,    0,    0,    0,    0,    0,    6,    0,    0,    0,  235,\n",
       "           0,    0,    0,    0,    0],\n",
       "       [   0,    0,    0,    0,    0,    0,    1,    0,    0,    0,  411,\n",
       "           0,    0,    0,    0,    0],\n",
       "       [   0,    0,    0,    0,    0,    0,    0,    0,    0,    0,    1,\n",
       "           0,    0,    0,    0,    0],\n",
       "       [   0,    0,    0,    0,    0,    0,   22,    0,    0,    0,  393,\n",
       "           0,    0,    0,    0,    0],\n",
       "       [   0,    0,    0,    0,    0,    0,   43,    0,    0,    1,  559,\n",
       "           0,    0,    0,    0,    0],\n",
       "       [   0,    0,    0,    0,    0,    0,    4,    0,    0,    0,  262,\n",
       "           0,    0,    0,    0,    0],\n",
       "       [   0,    0,    0,    0,    0,    0,    0,    0,    0,    0,   69,\n",
       "           0,    0,    0,    0,    0],\n",
       "       [   0,    0,    0,    0,    0,    0,   16,    0,    0,   21,  699,\n",
       "           0,    0,    0,    0,    0],\n",
       "       [   0,    0,    0,    0,    0,    0,   29,    0,    0,    5, 1496,\n",
       "           0,    0,    0,    0,    0],\n",
       "       [   0,    0,    0,    0,    0,    0,   15,    0,    0,    0,  196,\n",
       "           0,    0,    0,    0,    0],\n",
       "       [   0,    0,    0,    0,    0,    0,    2,    0,    0,    4,   56,\n",
       "           0,    0,    0,    0,    0],\n",
       "       [   0,    0,    0,    0,    0,    0,    0,    0,    0,    0,   33,\n",
       "           0,    0,    0,    0,    0],\n",
       "       [   0,    0,    0,    0,    0,    0,    0,    0,    0,    0,   12,\n",
       "           0,    0,    0,    0,    0],\n",
       "       [   0,    0,    0,    0,    0,    0,   19,    0,    0,    2,  332,\n",
       "           0,    0,    0,    0,    0]], dtype=int64)"
      ]
     },
     "execution_count": 42,
     "metadata": {},
     "output_type": "execute_result"
    }
   ],
   "source": [
    "confusion_matrix(y, LinearSVC().fit(x, y).predict(x))"
   ]
  },
  {
   "cell_type": "code",
   "execution_count": 43,
   "metadata": {},
   "outputs": [
    {
     "data": {
      "text/plain": [
       "0.2955056179775281"
      ]
     },
     "execution_count": 43,
     "metadata": {},
     "output_type": "execute_result"
    }
   ],
   "source": [
    "accuracy_score(y, SVC().fit(x, y).predict(x))"
   ]
  },
  {
   "cell_type": "code",
   "execution_count": 44,
   "metadata": {},
   "outputs": [
    {
     "data": {
      "text/plain": [
       "array([[   2,    0,    0,    0,    0,    0,   13,    0,    0,    0,  324,\n",
       "           0,    0,    0,    0,    0],\n",
       "       [   0,    0,    0,    0,    0,    0,    0,    0,    0,    0,   57,\n",
       "           0,    0,    0,    0,    0],\n",
       "       [   0,    0,    0,    0,    0,    0,    6,    0,    0,    0,  235,\n",
       "           0,    0,    0,    0,    0],\n",
       "       [   2,    0,    0,   17,    0,    0,    1,    0,    0,    0,  392,\n",
       "           0,    0,    0,    0,    0],\n",
       "       [   0,    0,    0,    0,    0,    0,    0,    0,    0,    0,    1,\n",
       "           0,    0,    0,    0,    0],\n",
       "       [   0,    0,    0,   11,    0,    0,   22,    0,    0,    0,  382,\n",
       "           0,    0,    0,    0,    0],\n",
       "       [   0,    0,    0,    0,    0,    0,   43,    0,    0,    1,  559,\n",
       "           0,    0,    0,    0,    0],\n",
       "       [   0,    0,    0,    2,    0,    0,    4,    0,    0,    0,  260,\n",
       "           0,    0,    0,    0,    0],\n",
       "       [   0,    0,    0,    0,    0,    0,    0,    0,    0,    0,   69,\n",
       "           0,    0,    0,    0,    0],\n",
       "       [   0,    0,    0,    0,    0,    0,   16,    0,    0,   23,  697,\n",
       "           0,    0,    0,    0,    0],\n",
       "       [   0,    0,    0,    3,    0,    0,   29,    0,    0,    5, 1493,\n",
       "           0,    0,    0,    0,    0],\n",
       "       [   0,    0,    0,    0,    0,    0,   15,    0,    0,    0,  196,\n",
       "           0,    0,    0,    0,    0],\n",
       "       [   0,    0,    0,    0,    0,    0,    2,    0,    0,    4,   56,\n",
       "           0,    0,    0,    0,    0],\n",
       "       [   0,    0,    0,    0,    0,    0,    0,    0,    0,    0,   33,\n",
       "           0,    0,    0,    0,    0],\n",
       "       [   0,    0,    0,    0,    0,    0,    0,    0,    0,    0,   12,\n",
       "           0,    0,    0,    0,    0],\n",
       "       [   0,    0,    0,    0,    0,    0,   19,    0,    0,    2,  332,\n",
       "           0,    0,    0,    0,    0]], dtype=int64)"
      ]
     },
     "execution_count": 44,
     "metadata": {},
     "output_type": "execute_result"
    }
   ],
   "source": [
    "confusion_matrix(y, SVC().fit(x, y).predict(x))"
   ]
  },
  {
   "cell_type": "code",
   "execution_count": 45,
   "metadata": {},
   "outputs": [
    {
     "data": {
      "text/plain": [
       "0.2955056179775281"
      ]
     },
     "execution_count": 45,
     "metadata": {},
     "output_type": "execute_result"
    }
   ],
   "source": [
    "accuracy_score(y, DecisionTreeClassifier().fit(x, y).predict(x))"
   ]
  },
  {
   "cell_type": "code",
   "execution_count": 46,
   "metadata": {},
   "outputs": [
    {
     "data": {
      "text/plain": [
       "array([[   2,    0,    0,    0,    0,    0,   13,    0,    0,    0,  324,\n",
       "           0,    0,    0,    0,    0],\n",
       "       [   0,    0,    0,    0,    0,    0,    0,    0,    0,    0,   57,\n",
       "           0,    0,    0,    0,    0],\n",
       "       [   0,    0,    0,    0,    0,    0,    6,    0,    0,    0,  235,\n",
       "           0,    0,    0,    0,    0],\n",
       "       [   2,    0,    0,   17,    0,    0,    1,    0,    0,    0,  392,\n",
       "           0,    0,    0,    0,    0],\n",
       "       [   0,    0,    0,    0,    0,    0,    0,    0,    0,    0,    1,\n",
       "           0,    0,    0,    0,    0],\n",
       "       [   0,    0,    0,   11,    0,    0,   22,    0,    0,    0,  382,\n",
       "           0,    0,    0,    0,    0],\n",
       "       [   0,    0,    0,    0,    0,    0,   43,    0,    0,    1,  559,\n",
       "           0,    0,    0,    0,    0],\n",
       "       [   0,    0,    0,    2,    0,    0,    4,    0,    0,    0,  260,\n",
       "           0,    0,    0,    0,    0],\n",
       "       [   0,    0,    0,    0,    0,    0,    0,    0,    0,    0,   69,\n",
       "           0,    0,    0,    0,    0],\n",
       "       [   0,    0,    0,    0,    0,    0,   16,    0,    0,   23,  697,\n",
       "           0,    0,    0,    0,    0],\n",
       "       [   0,    0,    0,    3,    0,    0,   29,    0,    0,    5, 1493,\n",
       "           0,    0,    0,    0,    0],\n",
       "       [   0,    0,    0,    0,    0,    0,   15,    0,    0,    0,  196,\n",
       "           0,    0,    0,    0,    0],\n",
       "       [   0,    0,    0,    0,    0,    0,    2,    0,    0,    4,   56,\n",
       "           0,    0,    0,    0,    0],\n",
       "       [   0,    0,    0,    0,    0,    0,    0,    0,    0,    0,   33,\n",
       "           0,    0,    0,    0,    0],\n",
       "       [   0,    0,    0,    0,    0,    0,    0,    0,    0,    0,   12,\n",
       "           0,    0,    0,    0,    0],\n",
       "       [   0,    0,    0,    0,    0,    0,   19,    0,    0,    2,  332,\n",
       "           0,    0,    0,    0,    0]], dtype=int64)"
      ]
     },
     "execution_count": 46,
     "metadata": {},
     "output_type": "execute_result"
    }
   ],
   "source": [
    "confusion_matrix(y, DecisionTreeClassifier().fit(x, y).predict(x))"
   ]
  },
  {
   "cell_type": "code",
   "execution_count": 47,
   "metadata": {},
   "outputs": [
    {
     "data": {
      "text/plain": [
       "0.2955056179775281"
      ]
     },
     "execution_count": 47,
     "metadata": {},
     "output_type": "execute_result"
    }
   ],
   "source": [
    "accuracy_score(y, ExtraTreeClassifier().fit(x, y).predict(x))"
   ]
  },
  {
   "cell_type": "code",
   "execution_count": 48,
   "metadata": {},
   "outputs": [
    {
     "data": {
      "text/plain": [
       "array([[   2,    0,    0,    0,    0,    0,   13,    0,    0,    0,  324,\n",
       "           0,    0,    0,    0,    0],\n",
       "       [   0,    0,    0,    0,    0,    0,    0,    0,    0,    0,   57,\n",
       "           0,    0,    0,    0,    0],\n",
       "       [   0,    0,    0,    0,    0,    0,    6,    0,    0,    0,  235,\n",
       "           0,    0,    0,    0,    0],\n",
       "       [   2,    0,    0,   17,    0,    0,    1,    0,    0,    0,  392,\n",
       "           0,    0,    0,    0,    0],\n",
       "       [   0,    0,    0,    0,    0,    0,    0,    0,    0,    0,    1,\n",
       "           0,    0,    0,    0,    0],\n",
       "       [   0,    0,    0,   11,    0,    0,   22,    0,    0,    0,  382,\n",
       "           0,    0,    0,    0,    0],\n",
       "       [   0,    0,    0,    0,    0,    0,   43,    0,    0,    1,  559,\n",
       "           0,    0,    0,    0,    0],\n",
       "       [   0,    0,    0,    2,    0,    0,    4,    0,    0,    0,  260,\n",
       "           0,    0,    0,    0,    0],\n",
       "       [   0,    0,    0,    0,    0,    0,    0,    0,    0,    0,   69,\n",
       "           0,    0,    0,    0,    0],\n",
       "       [   0,    0,    0,    0,    0,    0,   16,    0,    0,   23,  697,\n",
       "           0,    0,    0,    0,    0],\n",
       "       [   0,    0,    0,    3,    0,    0,   29,    0,    0,    5, 1493,\n",
       "           0,    0,    0,    0,    0],\n",
       "       [   0,    0,    0,    0,    0,    0,   15,    0,    0,    0,  196,\n",
       "           0,    0,    0,    0,    0],\n",
       "       [   0,    0,    0,    0,    0,    0,    2,    0,    0,    4,   56,\n",
       "           0,    0,    0,    0,    0],\n",
       "       [   0,    0,    0,    0,    0,    0,    0,    0,    0,    0,   33,\n",
       "           0,    0,    0,    0,    0],\n",
       "       [   0,    0,    0,    0,    0,    0,    0,    0,    0,    0,   12,\n",
       "           0,    0,    0,    0,    0],\n",
       "       [   0,    0,    0,    0,    0,    0,   19,    0,    0,    2,  332,\n",
       "           0,    0,    0,    0,    0]], dtype=int64)"
      ]
     },
     "execution_count": 48,
     "metadata": {},
     "output_type": "execute_result"
    }
   ],
   "source": [
    "confusion_matrix(y, ExtraTreeClassifier().fit(x, y).predict(x))"
   ]
  },
  {
   "cell_type": "code",
   "execution_count": null,
   "metadata": {},
   "outputs": [],
   "source": []
  }
 ],
 "metadata": {
  "kernelspec": {
   "display_name": "Python 3",
   "language": "python",
   "name": "python3"
  },
  "language_info": {
   "codemirror_mode": {
    "name": "ipython",
    "version": 3
   },
   "file_extension": ".py",
   "mimetype": "text/x-python",
   "name": "python",
   "nbconvert_exporter": "python",
   "pygments_lexer": "ipython3",
   "version": "3.7.5"
  }
 },
 "nbformat": 4,
 "nbformat_minor": 4
}
