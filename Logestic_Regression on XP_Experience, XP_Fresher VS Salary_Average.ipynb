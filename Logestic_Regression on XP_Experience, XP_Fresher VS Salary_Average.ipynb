{
 "cells": [
  {
   "cell_type": "code",
   "execution_count": 1,
   "metadata": {},
   "outputs": [],
   "source": [
    "import numpy as np\n",
    "import pandas as pd\n",
    "import matplotlib.pyplot as plt\n",
    "import seaborn as sns\n",
    "from sklearn.model_selection import train_test_split \n",
    "from sklearn.linear_model import LogisticRegression\n",
    "from sklearn import metrics\n",
    "%matplotlib inline\n",
    "import warnings\n",
    "warnings.filterwarnings('ignore')"
   ]
  },
  {
   "cell_type": "code",
   "execution_count": 2,
   "metadata": {},
   "outputs": [],
   "source": [
    "data = pd.read_excel(r'indeed_results_pp_2020-04-25.xlsx')"
   ]
  },
  {
   "cell_type": "code",
   "execution_count": 3,
   "metadata": {},
   "outputs": [
    {
     "data": {
      "text/html": [
       "<div>\n",
       "<style scoped>\n",
       "    .dataframe tbody tr th:only-of-type {\n",
       "        vertical-align: middle;\n",
       "    }\n",
       "\n",
       "    .dataframe tbody tr th {\n",
       "        vertical-align: top;\n",
       "    }\n",
       "\n",
       "    .dataframe thead th {\n",
       "        text-align: right;\n",
       "    }\n",
       "</style>\n",
       "<table border=\"1\" class=\"dataframe\">\n",
       "  <thead>\n",
       "    <tr style=\"text-align: right;\">\n",
       "      <th></th>\n",
       "      <th>Title</th>\n",
       "      <th>Location</th>\n",
       "      <th>Company</th>\n",
       "      <th>Salary</th>\n",
       "      <th>Sponsored</th>\n",
       "      <th>Description</th>\n",
       "      <th>Time</th>\n",
       "      <th>Salary_Unit_Month</th>\n",
       "      <th>Salary_Unit_Year</th>\n",
       "      <th>Salary_Unit_Week</th>\n",
       "      <th>...</th>\n",
       "      <th>Education_Bachelors</th>\n",
       "      <th>Education_Masters</th>\n",
       "      <th>Education_Doctorate</th>\n",
       "      <th>Skills_Description</th>\n",
       "      <th>Skills_Title</th>\n",
       "      <th>Skills</th>\n",
       "      <th>Position_Junior</th>\n",
       "      <th>Position_Senior</th>\n",
       "      <th>Internship</th>\n",
       "      <th>Title_New</th>\n",
       "    </tr>\n",
       "  </thead>\n",
       "  <tbody>\n",
       "    <tr>\n",
       "      <th>0</th>\n",
       "      <td>delivery drivers delivery executives delivery ...</td>\n",
       "      <td>Guwahati</td>\n",
       "      <td>Ride Swiggy</td>\n",
       "      <td>25000 35000 month</td>\n",
       "      <td>Sponsored</td>\n",
       "      <td>official job posted from swiggy join swiggy fa...</td>\n",
       "      <td>2019-11-15</td>\n",
       "      <td>1</td>\n",
       "      <td>0</td>\n",
       "      <td>0</td>\n",
       "      <td>...</td>\n",
       "      <td>0</td>\n",
       "      <td>0</td>\n",
       "      <td>0</td>\n",
       "      <td>NaN</td>\n",
       "      <td>NaN</td>\n",
       "      <td>NaN</td>\n",
       "      <td>0</td>\n",
       "      <td>0</td>\n",
       "      <td>1</td>\n",
       "      <td>NaN</td>\n",
       "    </tr>\n",
       "    <tr>\n",
       "      <th>1</th>\n",
       "      <td>primary teacher relocation to chitrakoot up</td>\n",
       "      <td>Guwahati</td>\n",
       "      <td>Ashok Public School Chitrakoot UP</td>\n",
       "      <td>NaN</td>\n",
       "      <td>Sponsored</td>\n",
       "      <td>candidates who are willing to relocate at chit...</td>\n",
       "      <td>2020-02-06</td>\n",
       "      <td>0</td>\n",
       "      <td>0</td>\n",
       "      <td>0</td>\n",
       "      <td>...</td>\n",
       "      <td>1</td>\n",
       "      <td>0</td>\n",
       "      <td>0</td>\n",
       "      <td>NaN</td>\n",
       "      <td>NaN</td>\n",
       "      <td>NaN</td>\n",
       "      <td>0</td>\n",
       "      <td>0</td>\n",
       "      <td>0</td>\n",
       "      <td>NaN</td>\n",
       "    </tr>\n",
       "    <tr>\n",
       "      <th>2</th>\n",
       "      <td>graphic designer</td>\n",
       "      <td>Guwahati</td>\n",
       "      <td>Supermark Agency</td>\n",
       "      <td>15000 20000 month</td>\n",
       "      <td>Sponsored</td>\n",
       "      <td>the ideal candidate will have strong creative ...</td>\n",
       "      <td>2020-01-18</td>\n",
       "      <td>1</td>\n",
       "      <td>0</td>\n",
       "      <td>0</td>\n",
       "      <td>...</td>\n",
       "      <td>1</td>\n",
       "      <td>0</td>\n",
       "      <td>0</td>\n",
       "      <td>|ui|ux|css</td>\n",
       "      <td>NaN</td>\n",
       "      <td>ui|css|ux</td>\n",
       "      <td>0</td>\n",
       "      <td>0</td>\n",
       "      <td>0</td>\n",
       "      <td>graphic designer</td>\n",
       "    </tr>\n",
       "    <tr>\n",
       "      <th>3</th>\n",
       "      <td>sales executive kitchenware and utensils</td>\n",
       "      <td>Guwahati</td>\n",
       "      <td>Global Prospects</td>\n",
       "      <td>175000 250000 year</td>\n",
       "      <td>Organic</td>\n",
       "      <td>sales executive distributor payroll we are urg...</td>\n",
       "      <td>2020-02-22</td>\n",
       "      <td>0</td>\n",
       "      <td>1</td>\n",
       "      <td>0</td>\n",
       "      <td>...</td>\n",
       "      <td>1</td>\n",
       "      <td>0</td>\n",
       "      <td>0</td>\n",
       "      <td>NaN</td>\n",
       "      <td>NaN</td>\n",
       "      <td>NaN</td>\n",
       "      <td>0</td>\n",
       "      <td>0</td>\n",
       "      <td>0</td>\n",
       "      <td>NaN</td>\n",
       "    </tr>\n",
       "    <tr>\n",
       "      <th>4</th>\n",
       "      <td>digital marketing executive</td>\n",
       "      <td>Guwahati</td>\n",
       "      <td>Global Prospects</td>\n",
       "      <td>100000 150000 year</td>\n",
       "      <td>Organic</td>\n",
       "      <td>we are looking for passionate and aspiring you...</td>\n",
       "      <td>2019-12-30</td>\n",
       "      <td>0</td>\n",
       "      <td>1</td>\n",
       "      <td>0</td>\n",
       "      <td>...</td>\n",
       "      <td>1</td>\n",
       "      <td>0</td>\n",
       "      <td>0</td>\n",
       "      <td>|communication skills</td>\n",
       "      <td>NaN</td>\n",
       "      <td>communication skills</td>\n",
       "      <td>0</td>\n",
       "      <td>0</td>\n",
       "      <td>0</td>\n",
       "      <td>NaN</td>\n",
       "    </tr>\n",
       "  </tbody>\n",
       "</table>\n",
       "<p>5 rows × 33 columns</p>\n",
       "</div>"
      ],
      "text/plain": [
       "                                               Title  Location  \\\n",
       "0  delivery drivers delivery executives delivery ...  Guwahati   \n",
       "1        primary teacher relocation to chitrakoot up  Guwahati   \n",
       "2                                   graphic designer  Guwahati   \n",
       "3           sales executive kitchenware and utensils  Guwahati   \n",
       "4                        digital marketing executive  Guwahati   \n",
       "\n",
       "                             Company              Salary  Sponsored  \\\n",
       "0                        Ride Swiggy   25000 35000 month  Sponsored   \n",
       "1  Ashok Public School Chitrakoot UP                 NaN  Sponsored   \n",
       "2                   Supermark Agency   15000 20000 month  Sponsored   \n",
       "3                   Global Prospects  175000 250000 year    Organic   \n",
       "4                   Global Prospects  100000 150000 year    Organic   \n",
       "\n",
       "                                         Description        Time  \\\n",
       "0  official job posted from swiggy join swiggy fa...  2019-11-15   \n",
       "1  candidates who are willing to relocate at chit...  2020-02-06   \n",
       "2  the ideal candidate will have strong creative ...  2020-01-18   \n",
       "3  sales executive distributor payroll we are urg...  2020-02-22   \n",
       "4  we are looking for passionate and aspiring you...  2019-12-30   \n",
       "\n",
       "   Salary_Unit_Month  Salary_Unit_Year  Salary_Unit_Week  ...  \\\n",
       "0                  1                 0                 0  ...   \n",
       "1                  0                 0                 0  ...   \n",
       "2                  1                 0                 0  ...   \n",
       "3                  0                 1                 0  ...   \n",
       "4                  0                 1                 0  ...   \n",
       "\n",
       "   Education_Bachelors  Education_Masters Education_Doctorate  \\\n",
       "0                    0                  0                   0   \n",
       "1                    1                  0                   0   \n",
       "2                    1                  0                   0   \n",
       "3                    1                  0                   0   \n",
       "4                    1                  0                   0   \n",
       "\n",
       "      Skills_Description  Skills_Title                Skills  Position_Junior  \\\n",
       "0                    NaN           NaN                   NaN                0   \n",
       "1                    NaN           NaN                   NaN                0   \n",
       "2             |ui|ux|css           NaN             ui|css|ux                0   \n",
       "3                    NaN           NaN                   NaN                0   \n",
       "4  |communication skills           NaN  communication skills                0   \n",
       "\n",
       "   Position_Senior  Internship         Title_New  \n",
       "0                0           1               NaN  \n",
       "1                0           0               NaN  \n",
       "2                0           0  graphic designer  \n",
       "3                0           0               NaN  \n",
       "4                0           0               NaN  \n",
       "\n",
       "[5 rows x 33 columns]"
      ]
     },
     "execution_count": 3,
     "metadata": {},
     "output_type": "execute_result"
    }
   ],
   "source": [
    "data.head()"
   ]
  },
  {
   "cell_type": "code",
   "execution_count": 4,
   "metadata": {},
   "outputs": [
    {
     "data": {
      "text/plain": [
       "Title                      0\n",
       "Location                   0\n",
       "Company                    0\n",
       "Salary                 32834\n",
       "Sponsored                  0\n",
       "Description            45918\n",
       "Time                       0\n",
       "Salary_Unit_Month          0\n",
       "Salary_Unit_Year           0\n",
       "Salary_Unit_Week           0\n",
       "Salary_Unit_Day            0\n",
       "Salary_Unit_Hour           0\n",
       "Salary_New             32834\n",
       "Salary_Average             0\n",
       "Job_Type_Part_Time         0\n",
       "Job_Type_Full_Time         0\n",
       "XP_Experience              0\n",
       "XP_Fresher                 0\n",
       "Gender                     0\n",
       "Gender_Male                0\n",
       "Gender_Female              0\n",
       "Education_Tenth            0\n",
       "Education_Twelvth          0\n",
       "Education_Bachelors        0\n",
       "Education_Masters          0\n",
       "Education_Doctorate        0\n",
       "Skills_Description     49003\n",
       "Skills_Title           56820\n",
       "Skills                 46775\n",
       "Position_Junior            0\n",
       "Position_Senior            0\n",
       "Internship                 0\n",
       "Title_New              57918\n",
       "dtype: int64"
      ]
     },
     "execution_count": 4,
     "metadata": {},
     "output_type": "execute_result"
    }
   ],
   "source": [
    "data.isnull().sum()"
   ]
  },
  {
   "cell_type": "code",
   "execution_count": 5,
   "metadata": {},
   "outputs": [],
   "source": [
    "X = data[['XP_Experience', 'XP_Fresher']]\n",
    "y = data['Salary_Average']"
   ]
  },
  {
   "cell_type": "code",
   "execution_count": 6,
   "metadata": {},
   "outputs": [],
   "source": [
    "X_train,X_test,y_train,y_test=train_test_split(X,y,test_size=0.20,random_state=0)"
   ]
  },
  {
   "cell_type": "code",
   "execution_count": 7,
   "metadata": {},
   "outputs": [
    {
     "data": {
      "text/plain": [
       "LogisticRegression(C=1.0, class_weight=None, dual=False, fit_intercept=True,\n",
       "                   intercept_scaling=1, l1_ratio=None, max_iter=100,\n",
       "                   multi_class='auto', n_jobs=None, penalty='l2',\n",
       "                   random_state=None, solver='lbfgs', tol=0.0001, verbose=0,\n",
       "                   warm_start=False)"
      ]
     },
     "execution_count": 7,
     "metadata": {},
     "output_type": "execute_result"
    }
   ],
   "source": [
    "logreg = LogisticRegression()\n",
    "logreg.fit(X_train,y_train)"
   ]
  },
  {
   "cell_type": "code",
   "execution_count": 8,
   "metadata": {},
   "outputs": [],
   "source": [
    "y_pred=logreg.predict(X_test)"
   ]
  },
  {
   "cell_type": "code",
   "execution_count": 9,
   "metadata": {},
   "outputs": [
    {
     "data": {
      "text/plain": [
       "array([[6606,    0,    0, ...,    0,    0,    0],\n",
       "       [   1,    0,    0, ...,    0,    0,    0],\n",
       "       [   1,    0,    0, ...,    0,    0,    0],\n",
       "       ...,\n",
       "       [   2,    0,    0, ...,    0,    0,    0],\n",
       "       [   2,    0,    0, ...,    0,    0,    0],\n",
       "       [   1,    0,    0, ...,    0,    0,    0]], dtype=int64)"
      ]
     },
     "execution_count": 9,
     "metadata": {},
     "output_type": "execute_result"
    }
   ],
   "source": [
    "cnf_matrix = metrics.confusion_matrix(y_test, y_pred)\n",
    "cnf_matrix"
   ]
  },
  {
   "cell_type": "code",
   "execution_count": 11,
   "metadata": {},
   "outputs": [
    {
     "name": "stdout",
     "output_type": "stream",
     "text": [
      "Accuracy: 0.5174682751057497\n"
     ]
    }
   ],
   "source": [
    "print(\"Accuracy:\",metrics.accuracy_score(y_test, y_pred))"
   ]
  },
  {
   "cell_type": "code",
   "execution_count": null,
   "metadata": {},
   "outputs": [],
   "source": []
  }
 ],
 "metadata": {
  "kernelspec": {
   "display_name": "Python 3",
   "language": "python",
   "name": "python3"
  },
  "language_info": {
   "codemirror_mode": {
    "name": "ipython",
    "version": 3
   },
   "file_extension": ".py",
   "mimetype": "text/x-python",
   "name": "python",
   "nbconvert_exporter": "python",
   "pygments_lexer": "ipython3",
   "version": "3.7.5"
  }
 },
 "nbformat": 4,
 "nbformat_minor": 4
}
