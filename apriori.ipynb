{
 "cells": [
  {
   "cell_type": "code",
   "execution_count": 1,
   "metadata": {},
   "outputs": [],
   "source": [
    "import numpy as np\n",
    "import pandas as pd\n",
    "from datetime import date\n",
    "\n",
    "from mlxtend.preprocessing import TransactionEncoder\n",
    "from mlxtend.frequent_patterns import apriori\n",
    "from apyori import apriori"
   ]
  },
  {
   "cell_type": "code",
   "execution_count": 2,
   "metadata": {},
   "outputs": [
    {
     "name": "stdout",
     "output_type": "stream",
     "text": [
      "Wall time: 17 s\n"
     ]
    }
   ],
   "source": [
    "%%time\n",
    "df = pd.read_excel(f'indeed_results_pp_2020-04-25.xlsx')"
   ]
  },
  {
   "cell_type": "code",
   "execution_count": 3,
   "metadata": {},
   "outputs": [
    {
     "data": {
      "text/html": [
       "<div>\n",
       "<style scoped>\n",
       "    .dataframe tbody tr th:only-of-type {\n",
       "        vertical-align: middle;\n",
       "    }\n",
       "\n",
       "    .dataframe tbody tr th {\n",
       "        vertical-align: top;\n",
       "    }\n",
       "\n",
       "    .dataframe thead th {\n",
       "        text-align: right;\n",
       "    }\n",
       "</style>\n",
       "<table border=\"1\" class=\"dataframe\">\n",
       "  <thead>\n",
       "    <tr style=\"text-align: right;\">\n",
       "      <th></th>\n",
       "      <th>Title_New</th>\n",
       "      <th>Skills</th>\n",
       "    </tr>\n",
       "  </thead>\n",
       "  <tbody>\n",
       "    <tr>\n",
       "      <th>6234</th>\n",
       "      <td>full stack developer</td>\n",
       "      <td>php</td>\n",
       "    </tr>\n",
       "    <tr>\n",
       "      <th>32984</th>\n",
       "      <td>full stack developer</td>\n",
       "      <td>php</td>\n",
       "    </tr>\n",
       "    <tr>\n",
       "      <th>48033</th>\n",
       "      <td>full stack developer</td>\n",
       "      <td>aws|hadoop|agile|ruby|django|mongodb|jira|java...</td>\n",
       "    </tr>\n",
       "    <tr>\n",
       "      <th>48480</th>\n",
       "      <td>full stack developer</td>\n",
       "      <td>pig|ruby|django|msexcel|machine learning|java|...</td>\n",
       "    </tr>\n",
       "    <tr>\n",
       "      <th>48619</th>\n",
       "      <td>full stack developer</td>\n",
       "      <td>aws|angular.js|html|laravel|machine learning|n...</td>\n",
       "    </tr>\n",
       "    <tr>\n",
       "      <th>...</th>\n",
       "      <td>...</td>\n",
       "      <td>...</td>\n",
       "    </tr>\n",
       "    <tr>\n",
       "      <th>63431</th>\n",
       "      <td>full stack developer</td>\n",
       "      <td>mysql|agile|django|msexcel|front end|java|java...</td>\n",
       "    </tr>\n",
       "    <tr>\n",
       "      <th>63605</th>\n",
       "      <td>full stack developer</td>\n",
       "      <td>aws|angular.js|gcp|redis|msexcel|mongodb|nodej...</td>\n",
       "    </tr>\n",
       "    <tr>\n",
       "      <th>63611</th>\n",
       "      <td>full stack developer</td>\n",
       "      <td>aws|angular.js|gcp|redis|msexcel|mongodb|nodej...</td>\n",
       "    </tr>\n",
       "    <tr>\n",
       "      <th>63661</th>\n",
       "      <td>full stack developer</td>\n",
       "      <td>angular.js|laravel|machine learning|nodejs|jav...</td>\n",
       "    </tr>\n",
       "    <tr>\n",
       "      <th>63827</th>\n",
       "      <td>full stack developer</td>\n",
       "      <td>aws|microservices|java|javascript|soft skills|...</td>\n",
       "    </tr>\n",
       "  </tbody>\n",
       "</table>\n",
       "<p>211 rows × 2 columns</p>\n",
       "</div>"
      ],
      "text/plain": [
       "                  Title_New                                             Skills\n",
       "6234   full stack developer                                                php\n",
       "32984  full stack developer                                                php\n",
       "48033  full stack developer  aws|hadoop|agile|ruby|django|mongodb|jira|java...\n",
       "48480  full stack developer  pig|ruby|django|msexcel|machine learning|java|...\n",
       "48619  full stack developer  aws|angular.js|html|laravel|machine learning|n...\n",
       "...                     ...                                                ...\n",
       "63431  full stack developer  mysql|agile|django|msexcel|front end|java|java...\n",
       "63605  full stack developer  aws|angular.js|gcp|redis|msexcel|mongodb|nodej...\n",
       "63611  full stack developer  aws|angular.js|gcp|redis|msexcel|mongodb|nodej...\n",
       "63661  full stack developer  angular.js|laravel|machine learning|nodejs|jav...\n",
       "63827  full stack developer  aws|microservices|java|javascript|soft skills|...\n",
       "\n",
       "[211 rows x 2 columns]"
      ]
     },
     "execution_count": 3,
     "metadata": {},
     "output_type": "execute_result"
    }
   ],
   "source": [
    "df[(df['Title_New'] == 'full stack developer') & (df['Skills'].notnull())][['Title_New', 'Skills']]"
   ]
  },
  {
   "cell_type": "code",
   "execution_count": 4,
   "metadata": {},
   "outputs": [
    {
     "data": {
      "text/html": [
       "<div>\n",
       "<style scoped>\n",
       "    .dataframe tbody tr th:only-of-type {\n",
       "        vertical-align: middle;\n",
       "    }\n",
       "\n",
       "    .dataframe tbody tr th {\n",
       "        vertical-align: top;\n",
       "    }\n",
       "\n",
       "    .dataframe thead th {\n",
       "        text-align: right;\n",
       "    }\n",
       "</style>\n",
       "<table border=\"1\" class=\"dataframe\">\n",
       "  <thead>\n",
       "    <tr style=\"text-align: right;\">\n",
       "      <th></th>\n",
       "      <th>Title_New</th>\n",
       "      <th>Skills</th>\n",
       "    </tr>\n",
       "  </thead>\n",
       "  <tbody>\n",
       "    <tr>\n",
       "      <th>9841</th>\n",
       "      <td>software developer</td>\n",
       "      <td>.net</td>\n",
       "    </tr>\n",
       "    <tr>\n",
       "      <th>16124</th>\n",
       "      <td>software developer</td>\n",
       "      <td>.net</td>\n",
       "    </tr>\n",
       "    <tr>\n",
       "      <th>36579</th>\n",
       "      <td>software developer</td>\n",
       "      <td>.net</td>\n",
       "    </tr>\n",
       "    <tr>\n",
       "      <th>42831</th>\n",
       "      <td>software developer</td>\n",
       "      <td>.net</td>\n",
       "    </tr>\n",
       "    <tr>\n",
       "      <th>47814</th>\n",
       "      <td>software developer</td>\n",
       "      <td>soft skills</td>\n",
       "    </tr>\n",
       "    <tr>\n",
       "      <th>...</th>\n",
       "      <td>...</td>\n",
       "      <td>...</td>\n",
       "    </tr>\n",
       "    <tr>\n",
       "      <th>63741</th>\n",
       "      <td>software developer</td>\n",
       "      <td>java|.net|soft skills</td>\n",
       "    </tr>\n",
       "    <tr>\n",
       "      <th>63751</th>\n",
       "      <td>software developer</td>\n",
       "      <td>soft skills</td>\n",
       "    </tr>\n",
       "    <tr>\n",
       "      <th>63800</th>\n",
       "      <td>software developer</td>\n",
       "      <td>.net|soft skills|c|sql</td>\n",
       "    </tr>\n",
       "    <tr>\n",
       "      <th>63805</th>\n",
       "      <td>software developer</td>\n",
       "      <td>aws|agile|msword|ruby|machine learning|java|sc...</td>\n",
       "    </tr>\n",
       "    <tr>\n",
       "      <th>63823</th>\n",
       "      <td>software developer</td>\n",
       "      <td>java|soft skills</td>\n",
       "    </tr>\n",
       "  </tbody>\n",
       "</table>\n",
       "<p>1563 rows × 2 columns</p>\n",
       "</div>"
      ],
      "text/plain": [
       "                Title_New                                             Skills\n",
       "9841   software developer                                               .net\n",
       "16124  software developer                                               .net\n",
       "36579  software developer                                               .net\n",
       "42831  software developer                                               .net\n",
       "47814  software developer                                        soft skills\n",
       "...                   ...                                                ...\n",
       "63741  software developer                              java|.net|soft skills\n",
       "63751  software developer                                        soft skills\n",
       "63800  software developer                             .net|soft skills|c|sql\n",
       "63805  software developer  aws|agile|msword|ruby|machine learning|java|sc...\n",
       "63823  software developer                                   java|soft skills\n",
       "\n",
       "[1563 rows x 2 columns]"
      ]
     },
     "execution_count": 4,
     "metadata": {},
     "output_type": "execute_result"
    }
   ],
   "source": [
    "df[(df['Title_New'] == 'software developer') & (df['Skills'].notnull())][['Title_New', 'Skills']]"
   ]
  },
  {
   "cell_type": "code",
   "execution_count": 5,
   "metadata": {},
   "outputs": [],
   "source": [
    "fullstackdeveloper = df[(df['Title_New'] == 'full stack developer') & (df['Skills'].notnull())][['Title_New', 'Skills']].reset_index().drop(['index'], axis=1)\n",
    "softwaredeveloper = df[(df['Title_New'] == 'software developer') & (df['Skills'].notnull())][['Title_New', 'Skills']].reset_index().drop(['index'], axis=1)"
   ]
  },
  {
   "cell_type": "code",
   "execution_count": 6,
   "metadata": {},
   "outputs": [],
   "source": [
    "fullstackdeveloperskills = [skills.split('|') for _, skills in fullstackdeveloper.values.tolist()]"
   ]
  },
  {
   "cell_type": "code",
   "execution_count": 7,
   "metadata": {},
   "outputs": [
    {
     "name": "stdout",
     "output_type": "stream",
     "text": [
      "Wall time: 2 ms\n"
     ]
    }
   ],
   "source": [
    "%%time\n",
    "te = TransactionEncoder()\n",
    "fullstackdeveloperskills_list = te.fit(fullstackdeveloperskills).transform(fullstackdeveloperskills)"
   ]
  },
  {
   "cell_type": "code",
   "execution_count": 8,
   "metadata": {},
   "outputs": [],
   "source": [
    "new_df = pd.DataFrame(fullstackdeveloperskills_list, columns=te.columns_)"
   ]
  },
  {
   "cell_type": "code",
   "execution_count": 9,
   "metadata": {},
   "outputs": [
    {
     "data": {
      "text/html": [
       "<div>\n",
       "<style scoped>\n",
       "    .dataframe tbody tr th:only-of-type {\n",
       "        vertical-align: middle;\n",
       "    }\n",
       "\n",
       "    .dataframe tbody tr th {\n",
       "        vertical-align: top;\n",
       "    }\n",
       "\n",
       "    .dataframe thead th {\n",
       "        text-align: right;\n",
       "    }\n",
       "</style>\n",
       "<table border=\"1\" class=\"dataframe\">\n",
       "  <thead>\n",
       "    <tr style=\"text-align: right;\">\n",
       "      <th></th>\n",
       "      <th>support</th>\n",
       "      <th>itemsets</th>\n",
       "    </tr>\n",
       "  </thead>\n",
       "  <tbody>\n",
       "    <tr>\n",
       "      <th>0</th>\n",
       "      <td>0.872038</td>\n",
       "      <td>(java)</td>\n",
       "    </tr>\n",
       "    <tr>\n",
       "      <th>1</th>\n",
       "      <td>0.824645</td>\n",
       "      <td>(javascript)</td>\n",
       "    </tr>\n",
       "    <tr>\n",
       "      <th>2</th>\n",
       "      <td>0.753555</td>\n",
       "      <td>(javascript, java)</td>\n",
       "    </tr>\n",
       "    <tr>\n",
       "      <th>3</th>\n",
       "      <td>0.578199</td>\n",
       "      <td>(soft skills)</td>\n",
       "    </tr>\n",
       "    <tr>\n",
       "      <th>4</th>\n",
       "      <td>0.554502</td>\n",
       "      <td>(javascript, soft skills)</td>\n",
       "    </tr>\n",
       "    <tr>\n",
       "      <th>...</th>\n",
       "      <td>...</td>\n",
       "      <td>...</td>\n",
       "    </tr>\n",
       "    <tr>\n",
       "      <th>312550</th>\n",
       "      <td>0.014218</td>\n",
       "      <td>(php, react.js, css, nodejs, java, python, rub...</td>\n",
       "    </tr>\n",
       "    <tr>\n",
       "      <th>312551</th>\n",
       "      <td>0.014218</td>\n",
       "      <td>(php, react.js, css, nodejs, java, python, sof...</td>\n",
       "    </tr>\n",
       "    <tr>\n",
       "      <th>312552</th>\n",
       "      <td>0.014218</td>\n",
       "      <td>(php, react.js, css, nodejs, java, python, sql...</td>\n",
       "    </tr>\n",
       "    <tr>\n",
       "      <th>312553</th>\n",
       "      <td>0.014218</td>\n",
       "      <td>(php, css, nodejs, java, python, redux, ruby, ...</td>\n",
       "    </tr>\n",
       "    <tr>\n",
       "      <th>312554</th>\n",
       "      <td>0.014218</td>\n",
       "      <td>(mysql, php, react.js, css, linux, .net, javas...</td>\n",
       "    </tr>\n",
       "  </tbody>\n",
       "</table>\n",
       "<p>312555 rows × 2 columns</p>\n",
       "</div>"
      ],
      "text/plain": [
       "         support                                           itemsets\n",
       "0       0.872038                                             (java)\n",
       "1       0.824645                                       (javascript)\n",
       "2       0.753555                                 (javascript, java)\n",
       "3       0.578199                                      (soft skills)\n",
       "4       0.554502                          (javascript, soft skills)\n",
       "...          ...                                                ...\n",
       "312550  0.014218  (php, react.js, css, nodejs, java, python, rub...\n",
       "312551  0.014218  (php, react.js, css, nodejs, java, python, sof...\n",
       "312552  0.014218  (php, react.js, css, nodejs, java, python, sql...\n",
       "312553  0.014218  (php, css, nodejs, java, python, redux, ruby, ...\n",
       "312554  0.014218  (mysql, php, react.js, css, linux, .net, javas...\n",
       "\n",
       "[312555 rows x 2 columns]"
      ]
     },
     "execution_count": 9,
     "metadata": {},
     "output_type": "execute_result"
    }
   ],
   "source": [
    "skillset = apriori(new_df, min_support=0.01, use_colnames=True).sort_values(by=\"support\", ascending=False).reset_index().drop(['index'], axis=1)\n",
    "skillset"
   ]
  },
  {
   "cell_type": "code",
   "execution_count": 10,
   "metadata": {},
   "outputs": [],
   "source": [
    "softwaredeveloperskills = [skills.split('|') for _, skills in softwaredeveloper.values.tolist()]"
   ]
  },
  {
   "cell_type": "code",
   "execution_count": 11,
   "metadata": {},
   "outputs": [],
   "source": [
    "softwaredeveloperskills_list = te.fit(softwaredeveloperskills).transform(softwaredeveloperskills)"
   ]
  },
  {
   "cell_type": "code",
   "execution_count": 12,
   "metadata": {},
   "outputs": [],
   "source": [
    "new_df_software_developer = pd.DataFrame(softwaredeveloperskills_list, columns=te.columns_)"
   ]
  },
  {
   "cell_type": "code",
   "execution_count": 13,
   "metadata": {},
   "outputs": [
    {
     "data": {
      "text/html": [
       "<div>\n",
       "<style scoped>\n",
       "    .dataframe tbody tr th:only-of-type {\n",
       "        vertical-align: middle;\n",
       "    }\n",
       "\n",
       "    .dataframe tbody tr th {\n",
       "        vertical-align: top;\n",
       "    }\n",
       "\n",
       "    .dataframe thead th {\n",
       "        text-align: right;\n",
       "    }\n",
       "</style>\n",
       "<table border=\"1\" class=\"dataframe\">\n",
       "  <thead>\n",
       "    <tr style=\"text-align: right;\">\n",
       "      <th></th>\n",
       "      <th>support</th>\n",
       "      <th>itemsets</th>\n",
       "    </tr>\n",
       "  </thead>\n",
       "  <tbody>\n",
       "    <tr>\n",
       "      <th>0</th>\n",
       "      <td>0.872038</td>\n",
       "      <td>(java)</td>\n",
       "    </tr>\n",
       "    <tr>\n",
       "      <th>1</th>\n",
       "      <td>0.824645</td>\n",
       "      <td>(javascript)</td>\n",
       "    </tr>\n",
       "    <tr>\n",
       "      <th>2</th>\n",
       "      <td>0.753555</td>\n",
       "      <td>(javascript, java)</td>\n",
       "    </tr>\n",
       "    <tr>\n",
       "      <th>3</th>\n",
       "      <td>0.578199</td>\n",
       "      <td>(soft skills)</td>\n",
       "    </tr>\n",
       "    <tr>\n",
       "      <th>4</th>\n",
       "      <td>0.554502</td>\n",
       "      <td>(javascript, soft skills)</td>\n",
       "    </tr>\n",
       "    <tr>\n",
       "      <th>...</th>\n",
       "      <td>...</td>\n",
       "      <td>...</td>\n",
       "    </tr>\n",
       "    <tr>\n",
       "      <th>312550</th>\n",
       "      <td>0.014218</td>\n",
       "      <td>(php, react.js, css, nodejs, java, python, rub...</td>\n",
       "    </tr>\n",
       "    <tr>\n",
       "      <th>312551</th>\n",
       "      <td>0.014218</td>\n",
       "      <td>(php, react.js, css, nodejs, java, python, sof...</td>\n",
       "    </tr>\n",
       "    <tr>\n",
       "      <th>312552</th>\n",
       "      <td>0.014218</td>\n",
       "      <td>(php, react.js, css, nodejs, java, python, sql...</td>\n",
       "    </tr>\n",
       "    <tr>\n",
       "      <th>312553</th>\n",
       "      <td>0.014218</td>\n",
       "      <td>(php, css, nodejs, java, python, redux, ruby, ...</td>\n",
       "    </tr>\n",
       "    <tr>\n",
       "      <th>312554</th>\n",
       "      <td>0.014218</td>\n",
       "      <td>(mysql, php, react.js, css, linux, .net, javas...</td>\n",
       "    </tr>\n",
       "  </tbody>\n",
       "</table>\n",
       "<p>312555 rows × 2 columns</p>\n",
       "</div>"
      ],
      "text/plain": [
       "         support                                           itemsets\n",
       "0       0.872038                                             (java)\n",
       "1       0.824645                                       (javascript)\n",
       "2       0.753555                                 (javascript, java)\n",
       "3       0.578199                                      (soft skills)\n",
       "4       0.554502                          (javascript, soft skills)\n",
       "...          ...                                                ...\n",
       "312550  0.014218  (php, react.js, css, nodejs, java, python, rub...\n",
       "312551  0.014218  (php, react.js, css, nodejs, java, python, sof...\n",
       "312552  0.014218  (php, react.js, css, nodejs, java, python, sql...\n",
       "312553  0.014218  (php, css, nodejs, java, python, redux, ruby, ...\n",
       "312554  0.014218  (mysql, php, react.js, css, linux, .net, javas...\n",
       "\n",
       "[312555 rows x 2 columns]"
      ]
     },
     "execution_count": 13,
     "metadata": {},
     "output_type": "execute_result"
    }
   ],
   "source": [
    "softwaredeveloperskillset = apriori(new_df, min_support=0.01, use_colnames=True).sort_values(by=\"support\", ascending=False).reset_index().drop(['index'], axis=1)\n",
    "softwaredeveloperskillset"
   ]
  },
  {
   "cell_type": "code",
   "execution_count": 16,
   "metadata": {},
   "outputs": [
    {
     "data": {
      "text/plain": [
       "6427"
      ]
     },
     "execution_count": 16,
     "metadata": {},
     "output_type": "execute_result"
    }
   ],
   "source": [
    "df[df['Title'].notnull() & df['Description'].notnull() & df['Salary'].notnull()].shape[0]"
   ]
  },
  {
   "cell_type": "code",
   "execution_count": null,
   "metadata": {},
   "outputs": [],
   "source": []
  }
 ],
 "metadata": {
  "kernelspec": {
   "display_name": "Python 3",
   "language": "python",
   "name": "python3"
  },
  "language_info": {
   "codemirror_mode": {
    "name": "ipython",
    "version": 3
   },
   "file_extension": ".py",
   "mimetype": "text/x-python",
   "name": "python",
   "nbconvert_exporter": "python",
   "pygments_lexer": "ipython3",
   "version": "3.7.5"
  }
 },
 "nbformat": 4,
 "nbformat_minor": 4
}
